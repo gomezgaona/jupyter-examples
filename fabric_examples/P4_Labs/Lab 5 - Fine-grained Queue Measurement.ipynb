{
 "cells": [
  {
   "cell_type": "markdown",
   "id": "ab5adb1a-770d-446f-8c45-582248410587",
   "metadata": {},
   "source": [
    "# Lab 5 - Fine-grained Queue Measurement\n",
    "\n",
    "The monitoring granularity supported by programmable data planes allows them to report statistics on a per-packet basis. In this lab, the user will implement a P4 program that reports the queuing delay to a collector by deploying the mirroring operation. The switch will clone each incoming packet, append the queue occupancy to the cloned instance, and forward it to a collector.  \n",
    "\n",
    "<img src=\"./labs_files/queue/figs/topology.png\" width=\"550px\"><br>"
   ]
  },
  {
   "cell_type": "markdown",
   "id": "54f01323-f1ec-4eb6-b165-d587bdef7391",
   "metadata": {},
   "source": [
    "# Background\n",
    "\n",
    "## Cloning\n",
    "\n",
    "Clone operation generates a new version of a packet, allowing the user to process the cloned packet differently from the original packet. The cloning operation does not disturb the ongoing connection as the original packet can be forwarded to its destination, while the cloned packet is directed to the ingress or egress blocks for additional processing. There are four types of cloning: 1) ingress to ingress; 2) ingress to egress; 3) egress to ingress; and 4) egress to egress. The user can specify a list of metadata to be preserved by the cloned packets. Multiple lists can be defined in the metadata data, where the order of the defined lists specify their IDs. Upon cloning, the user can specify which list to use by including it in the cloning function. The order of the lists starts from 1, where ID of value 0 is preserved to the empty list (i.e., no metadata are preserved by the cloned packets). Another parameter of the cloning function is the session ID. The session ID field groups the packets into groups, where different actions can be performed based on the value of this field. \n",
    "\n",
    "One function of packet cloning is mirroring. Mirroring (also known as port mirroring) is a standard networking functionality used to send a copy of a packet received on a specific port to a networking monitoring system (e.g., collector) on another port. To implement the mirroring functionality in P4, the user should identify which packets to be monitored, generate the mirrored instances of the identified packets, and specify the actions to be performed on those instances.\n",
    "\n",
    "Specifying which packets to be monitored is application dependent. For example, suppose the application should report the queue occupancy of the programmable switch on a per-packet basis. In that case, the switch should clone all the incoming packets, append the queue occupancy to the cloned instances, and forward them to a collector. It is important to differentiate between packet cloning and packet mirroring. The term \"clone\" is used instead of \"mirror\" to emphasize that it solely generates a new packet version without requiring additional configuration for mirroring. \n",
    "\n",
    "\n",
    "## Lab Scenario\n",
    "\n",
    "In this lab, the user will write a P4 application to report the queue occupancy of the switch on a per-packet basis. The reported values will be forwarded to a collector that will dynamically plot them. To send the measurements to the collector, the program will mirror the incoming packets after appending the queue occupancy to a custom header on the cloned instances. The payload and part of the headers will be discarded from the cloned packets to reduce the overhead of packet processing at the collector. The lab scenario is depicted below.\n",
    "\n",
    "<img src=\"./labs_files/queue/figs/scenario.png\" width=\"500px\"><br>"
   ]
  },
  {
   "cell_type": "markdown",
   "id": "a3b14494-a097-4a69-88a2-1e0baac727fb",
   "metadata": {
    "jp-MarkdownHeadingCollapsed": true,
    "tags": []
   },
   "source": [
    "# Step 1:  Configure the Environment\n",
    "\n",
    "Before running this notebook, you will need to configure your environment using the [Configure Environment](./scripts/prepare_env.ipynb) notebook. Please stop here, open and run that notebook, then return to this notebook.\n",
    "\n",
    "If you are using the FABRIC JupyterHub many of the environment variables will be automatically configured for you.  You will still need to set your bastion username, upload your bastion private key, and set the path to where you put your bastion private key. Your bastion username and private key should already be in your possession.  \n",
    "\n",
    "If you are using the FABRIC API outside of the JupyterHub you will need to configure all of the environment variables. Defaults below will be correct in many situations but you will need to confirm your configuration.  If you have questions about this configuration, please contact the FABRIC admins using the [FABRIC User Forum](https://learn.fabric-testbed.net/forums/) \n",
    "\n",
    "More information about accessing your experiments through the FABRIC bastion hosts can be found [here](https://learn.fabric-testbed.net/knowledge-base/logging-into-fabric-vms/).\n",
    " "
   ]
  },
  {
   "cell_type": "markdown",
   "id": "a7944d6d-f5f9-40ae-badb-4dc2c90e373b",
   "metadata": {
    "tags": []
   },
   "source": [
    "# Step 2: Import the FABlib Library"
   ]
  },
  {
   "cell_type": "code",
   "execution_count": 39,
   "id": "6ae6b13d-afdf-422b-bf5d-63d06e526a10",
   "metadata": {},
   "outputs": [],
   "source": [
    "from fabrictestbed_extensions.fablib.fablib import FablibManager as fablib_manager\n",
    "fablib = fablib_manager()"
   ]
  },
  {
   "cell_type": "markdown",
   "id": "469d59b2-6d39-47b4-ac64-a68614cbb882",
   "metadata": {
    "tags": []
   },
   "source": [
    "# Step 3: Create the Experiment Slice\n",
    "\n",
    "The following creates three node with basic compute and networking capabilities. You build a slice by creating a new slice and adding resources to the slice. After you build the slice, you must submit a request for the slice to be instantiated.   "
   ]
  },
  {
   "cell_type": "markdown",
   "id": "441c7670-4221-4f7a-be6a-df49214141ff",
   "metadata": {
    "tags": []
   },
   "source": [
    "### Step 3.1: Create a slice\n",
    "The code below creates a new slice with the name \"my_slice\""
   ]
  },
  {
   "cell_type": "code",
   "execution_count": 40,
   "id": "0202a524-b753-4859-9037-c49f410ee7d0",
   "metadata": {
    "tags": []
   },
   "outputs": [],
   "source": [
    "slice = fablib.new_slice(name=\"queue2\")"
   ]
  },
  {
   "cell_type": "code",
   "execution_count": 41,
   "id": "7bb55901-616c-49a2-bf75-84ea213fca7d",
   "metadata": {},
   "outputs": [],
   "source": [
    "#fablib.list_sites()"
   ]
  },
  {
   "cell_type": "markdown",
   "id": "982b3587-a231-4fbe-ba36-8d1fa67176c2",
   "metadata": {
    "tags": []
   },
   "source": [
    "### Step 3.2: Define the sites\n",
    "The code below requests four sites from FABRIC: MICH, STAR, IU, and NCSA"
   ]
  },
  {
   "cell_type": "markdown",
   "id": "12eaa227-4a13-48d3-a744-2a7540a4b030",
   "metadata": {
    "tags": []
   },
   "source": [
    "<img src=\"./labs_files/queue/figs/sites.png\" width=\"550px\"><br>"
   ]
  },
  {
   "cell_type": "code",
   "execution_count": 42,
   "id": "0fee3c44-13ce-4409-8cc2-b1799ad6eec3",
   "metadata": {
    "tags": []
   },
   "outputs": [
    {
     "name": "stdout",
     "output_type": "stream",
     "text": [
      "The selected sites are NCSA, STAR, MICH, INDI\n"
     ]
    }
   ],
   "source": [
    "#output_table = fablib.list_sites()\n",
    "#[site1,site2,site3] = fablib.get_random_sites(count=3, avoid=['CERN', 'LOSA', 'FIU', 'NEWY'])\n",
    "site1='NCSA'\n",
    "site2='STAR'\n",
    "site3='MICH'\n",
    "site4='INDI'\n",
    "\n",
    "print (f'The selected sites are {site1}, {site2}, {site3}, {site4}') "
   ]
  },
  {
   "cell_type": "markdown",
   "id": "976bef7a-4b4d-4993-ad2d-254757b2b211",
   "metadata": {
    "tags": []
   },
   "source": [
    "### Step 3.3: Creating the nodes\n",
    "The code below creates three nodes: sender, receiver, and collector. The nodes use the following\n",
    "<ul>\n",
    "    <li> 4 CPU cores</li>\n",
    "    <li> 8GB RAM </li>\n",
    "    <li> 20GB disc size </li>\n",
    "    <li> Image: Ubuntu 20.04\n",
    "</ul>\n",
    "\n",
    "Sender will be created in site1, Receiver will be created in site3, an Collector will be created in site4\n",
    "\n",
    "<img src=\"./labs_files/queue/figs/servers.png\" width=\"550px\"><br>"
   ]
  },
  {
   "cell_type": "code",
   "execution_count": 43,
   "id": "f189fb51-7411-43e4-a28d-8f9c2f12ade4",
   "metadata": {
    "tags": []
   },
   "outputs": [],
   "source": [
    "sender = slice.add_node(name=\"sender\", \n",
    "                      site=site1, \n",
    "                      cores=4, \n",
    "                      ram=8, \n",
    "                      disk=20, \n",
    "                      image='default_ubuntu_20')\n",
    "\n",
    "receiver = slice.add_node(name=\"receiver\", \n",
    "                      site=site3, \n",
    "                      cores=4, \n",
    "                      ram=8, \n",
    "                      disk=20, \n",
    "                      image='default_ubuntu_20')\n",
    "\n",
    "collector = slice.add_node(name=\"collector\", \n",
    "                      site=site4, \n",
    "                      cores=4, \n",
    "                      ram=8, \n",
    "                      disk=20, \n",
    "                      image='default_ubuntu_20')\n"
   ]
  },
  {
   "cell_type": "markdown",
   "id": "d47e891a-1acc-47e7-87ab-121c05a7dca1",
   "metadata": {
    "tags": []
   },
   "source": [
    "### Step 3.4: Adding the interfaces to the servers\n",
    "The code below adds a Network Interface Card (NIC) to each server.\n",
    "\n",
    "<img src=\"./labs_files/queue/figs/adding_nics.png\" width=\"550px\"><br>"
   ]
  },
  {
   "cell_type": "code",
   "execution_count": 44,
   "id": "57dc060a-c728-4c0c-aea5-097326c4384c",
   "metadata": {
    "tags": []
   },
   "outputs": [],
   "source": [
    "sender_iface = sender.add_component(model='NIC_Basic').get_interfaces()[0]\n",
    "receiver_iface = receiver.add_component(model='NIC_Basic').get_interfaces()[0]\n",
    "collector_iface = collector.add_component(model='NIC_Basic').get_interfaces()[0]"
   ]
  },
  {
   "cell_type": "markdown",
   "id": "7c9c1468-abc9-4159-8a25-368d55a116d6",
   "metadata": {
    "tags": []
   },
   "source": [
    "### Step 3.5: Creating a node for the P4 switch\n",
    "The code below creates a node that will run the P4 switch. The node use the following\n",
    "<ul>\n",
    "    <li> 16 CPU cores</li>\n",
    "    <li> 8GB RAM </li>\n",
    "    <li> 40GB disc size </li>\n",
    "    <li> Image: Ubuntu 20.04\n",
    "</ul>\n",
    "\n",
    "The node will be created in site2\n",
    "\n",
    "<img src=\"./labs_files/queue/figs/adding_switch_noports.png\" width=\"550px\"><br>"
   ]
  },
  {
   "cell_type": "code",
   "execution_count": 45,
   "id": "925b125f-ddbe-4531-89ed-b9b0a3e3f58e",
   "metadata": {
    "tags": []
   },
   "outputs": [],
   "source": [
    "# Add a node\n",
    "switch = slice.add_node(name=\"switch\", \n",
    "                      site=site2, \n",
    "                      cores=32, \n",
    "                      ram=16, \n",
    "                      disk=40, \n",
    "                      image='default_ubuntu_20')"
   ]
  },
  {
   "cell_type": "markdown",
   "id": "130eaded-960d-49ed-bb47-641630e33598",
   "metadata": {},
   "source": [
    "### Step 3.6: Adding two interfaces to the switch\n",
    "The code below adds three Network Interface Cards (NICs) to the switch.\n",
    "\n",
    "<img src=\"./labs_files/queue/figs/adding_switch.png\" width=\"550px\"><br>"
   ]
  },
  {
   "cell_type": "code",
   "execution_count": 46,
   "id": "eb754ffc-1a51-4777-9cee-203c18d6ba90",
   "metadata": {},
   "outputs": [],
   "source": [
    "switch_iface1 = switch.add_component(model='NIC_Basic', name='net1_nic').get_interfaces()[0]\n",
    "switch_iface2 = switch.add_component(model='NIC_Basic', name='net2_nic').get_interfaces()[0]\n",
    "switch_iface3 = switch.add_component(model='NIC_Basic', name='net3_nic').get_interfaces()[0]"
   ]
  },
  {
   "cell_type": "markdown",
   "id": "53baab9b-390d-4da8-8440-cd3356e56795",
   "metadata": {},
   "source": [
    "### Step 3.7: Connecting site1 and site2\n",
    "Create a site-to-site network between site1 and site2 connecting Sender and the P4 switch\n",
    "\n",
    "<img src=\"./labs_files/queue/figs/sender_switch.png\" width=\"550px\"><br>"
   ]
  },
  {
   "cell_type": "code",
   "execution_count": 47,
   "id": "1c536c24-f44d-4e9c-952f-4f2cb3781126",
   "metadata": {},
   "outputs": [],
   "source": [
    "net1 = slice.add_l2network(name='net1', interfaces=[sender_iface, switch_iface1])"
   ]
  },
  {
   "cell_type": "markdown",
   "id": "190e029f-3f22-47b5-9840-d879905c0790",
   "metadata": {},
   "source": [
    "### Step 3.7: Connecting site2 and site3\n",
    "Create a site-to-site network between site2 and site3 connecting the P4 switch and Receiver\n",
    "\n",
    "<img src=\"./labs_files/queue/figs/switch_receiver.png\" width=\"550px\"><br>"
   ]
  },
  {
   "cell_type": "code",
   "execution_count": 48,
   "id": "5a3f7a4c-15c0-4ec6-b05f-67d61b063670",
   "metadata": {},
   "outputs": [],
   "source": [
    "net2 = slice.add_l2network(name='net2', interfaces=[switch_iface2, receiver_iface])"
   ]
  },
  {
   "cell_type": "markdown",
   "id": "cdfea879-f8d9-4671-91dd-d8020a243093",
   "metadata": {},
   "source": [
    "### Step 3.8: Connecting site2 and site4\n",
    "Create a site-to-site network between site2 and site4 connecting the P4 switch and Collector\n",
    "\n",
    "<img src=\"./labs_files/queue/figs/switch_collector.png\" width=\"550px\"><br>"
   ]
  },
  {
   "cell_type": "code",
   "execution_count": 49,
   "id": "02bc16cc-6e5e-4a6f-8b2f-7347d6f13417",
   "metadata": {},
   "outputs": [],
   "source": [
    "net3 = slice.add_l2network(name='net3', interfaces=[switch_iface3, collector_iface])"
   ]
  },
  {
   "cell_type": "markdown",
   "id": "05d39e42-e051-43c7-aac1-79e01b758be6",
   "metadata": {},
   "source": [
    "### Step 3.8: Submitting the slice\n",
    "The code below submits the slice. \n",
    "By default, the submit function will block until the node is ready and will display the progress of your slice being built."
   ]
  },
  {
   "cell_type": "code",
   "execution_count": 50,
   "id": "20724788-d10c-4470-b7a9-5f28eac2f0d9",
   "metadata": {},
   "outputs": [
    {
     "name": "stdout",
     "output_type": "stream",
     "text": [
      "\n",
      "Retry: 11, Time: 354 sec\n"
     ]
    },
    {
     "data": {
      "text/html": [
       "<style type=\"text/css\">\n",
       "#T_3ed19 tr:nth-child(even) {\n",
       "  background: #dbf3ff;\n",
       "  color: #231f20;\n",
       "}\n",
       "#T_3ed19 tr:nth-child(odd) {\n",
       "  background: #ffffff;\n",
       "  color: #231f20;\n",
       "}\n",
       "#T_3ed19 caption {\n",
       "  text-align: center;\n",
       "  font-size: 150%;\n",
       "}\n",
       "#T_3ed19_row0_col0, #T_3ed19_row0_col1, #T_3ed19_row1_col0, #T_3ed19_row1_col1, #T_3ed19_row2_col0, #T_3ed19_row2_col1, #T_3ed19_row3_col0, #T_3ed19_row3_col1, #T_3ed19_row4_col0, #T_3ed19_row4_col1, #T_3ed19_row5_col0 {\n",
       "  text-align: left;\n",
       "  border: 1px #231f20 solid !important;\n",
       "  overwrite: False;\n",
       "  background-color: ;\n",
       "}\n",
       "#T_3ed19_row5_col1 {\n",
       "  text-align: left;\n",
       "  border: 1px #231f20 solid !important;\n",
       "  overwrite: False;\n",
       "  background-color: #c3ffc4;\n",
       "}\n",
       "</style>\n",
       "<table id=\"T_3ed19\">\n",
       "  <caption>Slice</caption>\n",
       "  <thead>\n",
       "  </thead>\n",
       "  <tbody>\n",
       "    <tr>\n",
       "      <td id=\"T_3ed19_row0_col0\" class=\"data row0 col0\" >ID</td>\n",
       "      <td id=\"T_3ed19_row0_col1\" class=\"data row0 col1\" >40ca6134-a523-4d93-b954-4859c6dd73a8</td>\n",
       "    </tr>\n",
       "    <tr>\n",
       "      <td id=\"T_3ed19_row1_col0\" class=\"data row1 col0\" >Name</td>\n",
       "      <td id=\"T_3ed19_row1_col1\" class=\"data row1 col1\" >queue2</td>\n",
       "    </tr>\n",
       "    <tr>\n",
       "      <td id=\"T_3ed19_row2_col0\" class=\"data row2 col0\" >Lease Expiration (UTC)</td>\n",
       "      <td id=\"T_3ed19_row2_col1\" class=\"data row2 col1\" >2023-07-28 15:32:10 +0000</td>\n",
       "    </tr>\n",
       "    <tr>\n",
       "      <td id=\"T_3ed19_row3_col0\" class=\"data row3 col0\" >Lease Start (UTC)</td>\n",
       "      <td id=\"T_3ed19_row3_col1\" class=\"data row3 col1\" >2023-07-27 15:32:10 +0000</td>\n",
       "    </tr>\n",
       "    <tr>\n",
       "      <td id=\"T_3ed19_row4_col0\" class=\"data row4 col0\" >Project ID</td>\n",
       "      <td id=\"T_3ed19_row4_col1\" class=\"data row4 col1\" >8eaa3ec2-65e7-49a3-8c09-e1761141a6ad</td>\n",
       "    </tr>\n",
       "    <tr>\n",
       "      <td id=\"T_3ed19_row5_col0\" class=\"data row5 col0\" >State</td>\n",
       "      <td id=\"T_3ed19_row5_col1\" class=\"data row5 col1\" >StableOK</td>\n",
       "    </tr>\n",
       "  </tbody>\n",
       "</table>\n"
      ],
      "text/plain": [
       "<pandas.io.formats.style.Styler at 0x7efc78484340>"
      ]
     },
     "metadata": {},
     "output_type": "display_data"
    },
    {
     "data": {
      "text/html": [
       "<style type=\"text/css\">\n",
       "#T_48b8e caption {\n",
       "  text-align: center;\n",
       "  font-size: 150%;\n",
       "  caption-side: top;\n",
       "}\n",
       "#T_48b8e th {\n",
       "  text-align: left;\n",
       "}\n",
       "#T_48b8e tr:nth-child(even) {\n",
       "  background: #ffffff;\n",
       "  color: #231f20;\n",
       "}\n",
       "#T_48b8e tr:nth-child(odd) {\n",
       "  background: #dbf3ff;\n",
       "  color: #231f20;\n",
       "}\n",
       "#T_48b8e .level0 {\n",
       "  border: 1px black solid !important;\n",
       "  background: #ffffff;\n",
       "  color: #231f20;\n",
       "}\n",
       "#T_48b8e_row0_col0, #T_48b8e_row0_col1, #T_48b8e_row0_col2, #T_48b8e_row0_col3, #T_48b8e_row0_col4, #T_48b8e_row0_col5, #T_48b8e_row0_col6, #T_48b8e_row0_col7, #T_48b8e_row0_col8, #T_48b8e_row0_col9, #T_48b8e_row0_col10, #T_48b8e_row0_col13, #T_48b8e_row0_col14, #T_48b8e_row0_col15, #T_48b8e_row1_col0, #T_48b8e_row1_col1, #T_48b8e_row1_col2, #T_48b8e_row1_col3, #T_48b8e_row1_col4, #T_48b8e_row1_col5, #T_48b8e_row1_col6, #T_48b8e_row1_col7, #T_48b8e_row1_col8, #T_48b8e_row1_col9, #T_48b8e_row1_col10, #T_48b8e_row1_col13, #T_48b8e_row1_col14, #T_48b8e_row1_col15, #T_48b8e_row2_col0, #T_48b8e_row2_col1, #T_48b8e_row2_col2, #T_48b8e_row2_col3, #T_48b8e_row2_col4, #T_48b8e_row2_col5, #T_48b8e_row2_col6, #T_48b8e_row2_col7, #T_48b8e_row2_col8, #T_48b8e_row2_col9, #T_48b8e_row2_col10, #T_48b8e_row2_col13, #T_48b8e_row2_col14, #T_48b8e_row2_col15, #T_48b8e_row3_col0, #T_48b8e_row3_col1, #T_48b8e_row3_col2, #T_48b8e_row3_col3, #T_48b8e_row3_col4, #T_48b8e_row3_col5, #T_48b8e_row3_col6, #T_48b8e_row3_col7, #T_48b8e_row3_col8, #T_48b8e_row3_col9, #T_48b8e_row3_col10, #T_48b8e_row3_col13, #T_48b8e_row3_col14, #T_48b8e_row3_col15 {\n",
       "  text-align: left;\n",
       "  border: 1px #231f20 solid !important;\n",
       "  overwrite: False;\n",
       "}\n",
       "#T_48b8e_row0_col11, #T_48b8e_row1_col11, #T_48b8e_row2_col11, #T_48b8e_row3_col11 {\n",
       "  text-align: left;\n",
       "  border: 1px #231f20 solid !important;\n",
       "  overwrite: False;\n",
       "  background-color: #c3ffc4;\n",
       "}\n",
       "#T_48b8e_row0_col12, #T_48b8e_row1_col12, #T_48b8e_row2_col12, #T_48b8e_row3_col12 {\n",
       "  text-align: left;\n",
       "  border: 1px #231f20 solid !important;\n",
       "  overwrite: False;\n",
       "  background-color: ;\n",
       "}\n",
       "</style>\n",
       "<table id=\"T_48b8e\">\n",
       "  <caption>Nodes</caption>\n",
       "  <thead>\n",
       "    <tr>\n",
       "      <th id=\"T_48b8e_level0_col0\" class=\"col_heading level0 col0\" >ID</th>\n",
       "      <th id=\"T_48b8e_level0_col1\" class=\"col_heading level0 col1\" >Name</th>\n",
       "      <th id=\"T_48b8e_level0_col2\" class=\"col_heading level0 col2\" >Cores</th>\n",
       "      <th id=\"T_48b8e_level0_col3\" class=\"col_heading level0 col3\" >RAM</th>\n",
       "      <th id=\"T_48b8e_level0_col4\" class=\"col_heading level0 col4\" >Disk</th>\n",
       "      <th id=\"T_48b8e_level0_col5\" class=\"col_heading level0 col5\" >Image</th>\n",
       "      <th id=\"T_48b8e_level0_col6\" class=\"col_heading level0 col6\" >Image Type</th>\n",
       "      <th id=\"T_48b8e_level0_col7\" class=\"col_heading level0 col7\" >Host</th>\n",
       "      <th id=\"T_48b8e_level0_col8\" class=\"col_heading level0 col8\" >Site</th>\n",
       "      <th id=\"T_48b8e_level0_col9\" class=\"col_heading level0 col9\" >Username</th>\n",
       "      <th id=\"T_48b8e_level0_col10\" class=\"col_heading level0 col10\" >Management IP</th>\n",
       "      <th id=\"T_48b8e_level0_col11\" class=\"col_heading level0 col11\" >State</th>\n",
       "      <th id=\"T_48b8e_level0_col12\" class=\"col_heading level0 col12\" >Error</th>\n",
       "      <th id=\"T_48b8e_level0_col13\" class=\"col_heading level0 col13\" >SSH Command</th>\n",
       "      <th id=\"T_48b8e_level0_col14\" class=\"col_heading level0 col14\" >Public SSH Key File</th>\n",
       "      <th id=\"T_48b8e_level0_col15\" class=\"col_heading level0 col15\" >Private SSH Key File</th>\n",
       "    </tr>\n",
       "  </thead>\n",
       "  <tbody>\n",
       "    <tr>\n",
       "      <td id=\"T_48b8e_row0_col0\" class=\"data row0 col0\" >8a8b928d-003d-4995-b371-0c7ba505120c</td>\n",
       "      <td id=\"T_48b8e_row0_col1\" class=\"data row0 col1\" >collector</td>\n",
       "      <td id=\"T_48b8e_row0_col2\" class=\"data row0 col2\" >4</td>\n",
       "      <td id=\"T_48b8e_row0_col3\" class=\"data row0 col3\" >8</td>\n",
       "      <td id=\"T_48b8e_row0_col4\" class=\"data row0 col4\" >100</td>\n",
       "      <td id=\"T_48b8e_row0_col5\" class=\"data row0 col5\" >default_ubuntu_20</td>\n",
       "      <td id=\"T_48b8e_row0_col6\" class=\"data row0 col6\" >qcow2</td>\n",
       "      <td id=\"T_48b8e_row0_col7\" class=\"data row0 col7\" >indi-w3.fabric-testbed.net</td>\n",
       "      <td id=\"T_48b8e_row0_col8\" class=\"data row0 col8\" >INDI</td>\n",
       "      <td id=\"T_48b8e_row0_col9\" class=\"data row0 col9\" >ubuntu</td>\n",
       "      <td id=\"T_48b8e_row0_col10\" class=\"data row0 col10\" >2001:18e8:fff0:3:f816:3eff:feba:3de7</td>\n",
       "      <td id=\"T_48b8e_row0_col11\" class=\"data row0 col11\" >Active</td>\n",
       "      <td id=\"T_48b8e_row0_col12\" class=\"data row0 col12\" ></td>\n",
       "      <td id=\"T_48b8e_row0_col13\" class=\"data row0 col13\" >ssh -i /home/fabric/work/fabric_config/slice_key -F /home/fabric/work/fabric_config/ssh_config ubuntu@2001:18e8:fff0:3:f816:3eff:feba:3de7</td>\n",
       "      <td id=\"T_48b8e_row0_col14\" class=\"data row0 col14\" >/home/fabric/work/fabric_config/slice_key.pub</td>\n",
       "      <td id=\"T_48b8e_row0_col15\" class=\"data row0 col15\" >/home/fabric/work/fabric_config/slice_key</td>\n",
       "    </tr>\n",
       "    <tr>\n",
       "      <td id=\"T_48b8e_row1_col0\" class=\"data row1 col0\" >47d77405-34f2-4a31-b95a-a9d70d16670c</td>\n",
       "      <td id=\"T_48b8e_row1_col1\" class=\"data row1 col1\" >receiver</td>\n",
       "      <td id=\"T_48b8e_row1_col2\" class=\"data row1 col2\" >4</td>\n",
       "      <td id=\"T_48b8e_row1_col3\" class=\"data row1 col3\" >8</td>\n",
       "      <td id=\"T_48b8e_row1_col4\" class=\"data row1 col4\" >100</td>\n",
       "      <td id=\"T_48b8e_row1_col5\" class=\"data row1 col5\" >default_ubuntu_20</td>\n",
       "      <td id=\"T_48b8e_row1_col6\" class=\"data row1 col6\" >qcow2</td>\n",
       "      <td id=\"T_48b8e_row1_col7\" class=\"data row1 col7\" >mich-w3.fabric-testbed.net</td>\n",
       "      <td id=\"T_48b8e_row1_col8\" class=\"data row1 col8\" >MICH</td>\n",
       "      <td id=\"T_48b8e_row1_col9\" class=\"data row1 col9\" >ubuntu</td>\n",
       "      <td id=\"T_48b8e_row1_col10\" class=\"data row1 col10\" >2607:f018:110:11:f816:3eff:fe07:4341</td>\n",
       "      <td id=\"T_48b8e_row1_col11\" class=\"data row1 col11\" >Active</td>\n",
       "      <td id=\"T_48b8e_row1_col12\" class=\"data row1 col12\" ></td>\n",
       "      <td id=\"T_48b8e_row1_col13\" class=\"data row1 col13\" >ssh -i /home/fabric/work/fabric_config/slice_key -F /home/fabric/work/fabric_config/ssh_config ubuntu@2607:f018:110:11:f816:3eff:fe07:4341</td>\n",
       "      <td id=\"T_48b8e_row1_col14\" class=\"data row1 col14\" >/home/fabric/work/fabric_config/slice_key.pub</td>\n",
       "      <td id=\"T_48b8e_row1_col15\" class=\"data row1 col15\" >/home/fabric/work/fabric_config/slice_key</td>\n",
       "    </tr>\n",
       "    <tr>\n",
       "      <td id=\"T_48b8e_row2_col0\" class=\"data row2 col0\" >2ac519fe-f903-4173-acf3-2c0d04f05711</td>\n",
       "      <td id=\"T_48b8e_row2_col1\" class=\"data row2 col1\" >sender</td>\n",
       "      <td id=\"T_48b8e_row2_col2\" class=\"data row2 col2\" >4</td>\n",
       "      <td id=\"T_48b8e_row2_col3\" class=\"data row2 col3\" >8</td>\n",
       "      <td id=\"T_48b8e_row2_col4\" class=\"data row2 col4\" >100</td>\n",
       "      <td id=\"T_48b8e_row2_col5\" class=\"data row2 col5\" >default_ubuntu_20</td>\n",
       "      <td id=\"T_48b8e_row2_col6\" class=\"data row2 col6\" >qcow2</td>\n",
       "      <td id=\"T_48b8e_row2_col7\" class=\"data row2 col7\" >ncsa-w2.fabric-testbed.net</td>\n",
       "      <td id=\"T_48b8e_row2_col8\" class=\"data row2 col8\" >NCSA</td>\n",
       "      <td id=\"T_48b8e_row2_col9\" class=\"data row2 col9\" >ubuntu</td>\n",
       "      <td id=\"T_48b8e_row2_col10\" class=\"data row2 col10\" >2620:0:c80:1001:f816:3eff:fe92:860f</td>\n",
       "      <td id=\"T_48b8e_row2_col11\" class=\"data row2 col11\" >Active</td>\n",
       "      <td id=\"T_48b8e_row2_col12\" class=\"data row2 col12\" ></td>\n",
       "      <td id=\"T_48b8e_row2_col13\" class=\"data row2 col13\" >ssh -i /home/fabric/work/fabric_config/slice_key -F /home/fabric/work/fabric_config/ssh_config ubuntu@2620:0:c80:1001:f816:3eff:fe92:860f</td>\n",
       "      <td id=\"T_48b8e_row2_col14\" class=\"data row2 col14\" >/home/fabric/work/fabric_config/slice_key.pub</td>\n",
       "      <td id=\"T_48b8e_row2_col15\" class=\"data row2 col15\" >/home/fabric/work/fabric_config/slice_key</td>\n",
       "    </tr>\n",
       "    <tr>\n",
       "      <td id=\"T_48b8e_row3_col0\" class=\"data row3 col0\" >d1527ed5-b86b-4d5f-b3d5-0f79357608ad</td>\n",
       "      <td id=\"T_48b8e_row3_col1\" class=\"data row3 col1\" >switch</td>\n",
       "      <td id=\"T_48b8e_row3_col2\" class=\"data row3 col2\" >32</td>\n",
       "      <td id=\"T_48b8e_row3_col3\" class=\"data row3 col3\" >16</td>\n",
       "      <td id=\"T_48b8e_row3_col4\" class=\"data row3 col4\" >100</td>\n",
       "      <td id=\"T_48b8e_row3_col5\" class=\"data row3 col5\" >default_ubuntu_20</td>\n",
       "      <td id=\"T_48b8e_row3_col6\" class=\"data row3 col6\" >qcow2</td>\n",
       "      <td id=\"T_48b8e_row3_col7\" class=\"data row3 col7\" >star-w6.fabric-testbed.net</td>\n",
       "      <td id=\"T_48b8e_row3_col8\" class=\"data row3 col8\" >STAR</td>\n",
       "      <td id=\"T_48b8e_row3_col9\" class=\"data row3 col9\" >ubuntu</td>\n",
       "      <td id=\"T_48b8e_row3_col10\" class=\"data row3 col10\" >2001:400:a100:3030:f816:3eff:fef4:5da</td>\n",
       "      <td id=\"T_48b8e_row3_col11\" class=\"data row3 col11\" >Active</td>\n",
       "      <td id=\"T_48b8e_row3_col12\" class=\"data row3 col12\" ></td>\n",
       "      <td id=\"T_48b8e_row3_col13\" class=\"data row3 col13\" >ssh -i /home/fabric/work/fabric_config/slice_key -F /home/fabric/work/fabric_config/ssh_config ubuntu@2001:400:a100:3030:f816:3eff:fef4:5da</td>\n",
       "      <td id=\"T_48b8e_row3_col14\" class=\"data row3 col14\" >/home/fabric/work/fabric_config/slice_key.pub</td>\n",
       "      <td id=\"T_48b8e_row3_col15\" class=\"data row3 col15\" >/home/fabric/work/fabric_config/slice_key</td>\n",
       "    </tr>\n",
       "  </tbody>\n",
       "</table>\n"
      ],
      "text/plain": [
       "<pandas.io.formats.style.Styler at 0x7efc381dd0a0>"
      ]
     },
     "metadata": {},
     "output_type": "display_data"
    },
    {
     "data": {
      "text/html": [
       "<style type=\"text/css\">\n",
       "#T_3a9cb caption {\n",
       "  text-align: center;\n",
       "  font-size: 150%;\n",
       "  caption-side: top;\n",
       "}\n",
       "#T_3a9cb th {\n",
       "  text-align: left;\n",
       "}\n",
       "#T_3a9cb tr:nth-child(even) {\n",
       "  background: #ffffff;\n",
       "  color: #231f20;\n",
       "}\n",
       "#T_3a9cb tr:nth-child(odd) {\n",
       "  background: #dbf3ff;\n",
       "  color: #231f20;\n",
       "}\n",
       "#T_3a9cb .level0 {\n",
       "  border: 1px black solid !important;\n",
       "  background: #ffffff;\n",
       "  color: #231f20;\n",
       "}\n",
       "#T_3a9cb_row0_col0, #T_3a9cb_row0_col1, #T_3a9cb_row0_col2, #T_3a9cb_row0_col3, #T_3a9cb_row0_col4, #T_3a9cb_row0_col5, #T_3a9cb_row0_col6, #T_3a9cb_row1_col0, #T_3a9cb_row1_col1, #T_3a9cb_row1_col2, #T_3a9cb_row1_col3, #T_3a9cb_row1_col4, #T_3a9cb_row1_col5, #T_3a9cb_row1_col6, #T_3a9cb_row2_col0, #T_3a9cb_row2_col1, #T_3a9cb_row2_col2, #T_3a9cb_row2_col3, #T_3a9cb_row2_col4, #T_3a9cb_row2_col5, #T_3a9cb_row2_col6 {\n",
       "  text-align: left;\n",
       "  border: 1px #231f20 solid !important;\n",
       "  overwrite: False;\n",
       "}\n",
       "#T_3a9cb_row0_col7, #T_3a9cb_row1_col7, #T_3a9cb_row2_col7 {\n",
       "  text-align: left;\n",
       "  border: 1px #231f20 solid !important;\n",
       "  overwrite: False;\n",
       "  background-color: #c3ffc4;\n",
       "}\n",
       "#T_3a9cb_row0_col8, #T_3a9cb_row1_col8, #T_3a9cb_row2_col8 {\n",
       "  text-align: left;\n",
       "  border: 1px #231f20 solid !important;\n",
       "  overwrite: False;\n",
       "  background-color: ;\n",
       "}\n",
       "</style>\n",
       "<table id=\"T_3a9cb\">\n",
       "  <caption>Networks</caption>\n",
       "  <thead>\n",
       "    <tr>\n",
       "      <th id=\"T_3a9cb_level0_col0\" class=\"col_heading level0 col0\" >ID</th>\n",
       "      <th id=\"T_3a9cb_level0_col1\" class=\"col_heading level0 col1\" >Name</th>\n",
       "      <th id=\"T_3a9cb_level0_col2\" class=\"col_heading level0 col2\" >Layer</th>\n",
       "      <th id=\"T_3a9cb_level0_col3\" class=\"col_heading level0 col3\" >Type</th>\n",
       "      <th id=\"T_3a9cb_level0_col4\" class=\"col_heading level0 col4\" >Site</th>\n",
       "      <th id=\"T_3a9cb_level0_col5\" class=\"col_heading level0 col5\" >Subnet</th>\n",
       "      <th id=\"T_3a9cb_level0_col6\" class=\"col_heading level0 col6\" >Gateway</th>\n",
       "      <th id=\"T_3a9cb_level0_col7\" class=\"col_heading level0 col7\" >State</th>\n",
       "      <th id=\"T_3a9cb_level0_col8\" class=\"col_heading level0 col8\" >Error</th>\n",
       "    </tr>\n",
       "  </thead>\n",
       "  <tbody>\n",
       "    <tr>\n",
       "      <td id=\"T_3a9cb_row0_col0\" class=\"data row0 col0\" >bcddd7ca-18db-4ce7-b598-e07c90930bf1</td>\n",
       "      <td id=\"T_3a9cb_row0_col1\" class=\"data row0 col1\" >net1</td>\n",
       "      <td id=\"T_3a9cb_row0_col2\" class=\"data row0 col2\" >L2</td>\n",
       "      <td id=\"T_3a9cb_row0_col3\" class=\"data row0 col3\" >L2STS</td>\n",
       "      <td id=\"T_3a9cb_row0_col4\" class=\"data row0 col4\" >None</td>\n",
       "      <td id=\"T_3a9cb_row0_col5\" class=\"data row0 col5\" >None</td>\n",
       "      <td id=\"T_3a9cb_row0_col6\" class=\"data row0 col6\" >None</td>\n",
       "      <td id=\"T_3a9cb_row0_col7\" class=\"data row0 col7\" >Active</td>\n",
       "      <td id=\"T_3a9cb_row0_col8\" class=\"data row0 col8\" ></td>\n",
       "    </tr>\n",
       "    <tr>\n",
       "      <td id=\"T_3a9cb_row1_col0\" class=\"data row1 col0\" >f320a158-ce0a-494e-a2f8-bd9831ecf005</td>\n",
       "      <td id=\"T_3a9cb_row1_col1\" class=\"data row1 col1\" >net2</td>\n",
       "      <td id=\"T_3a9cb_row1_col2\" class=\"data row1 col2\" >L2</td>\n",
       "      <td id=\"T_3a9cb_row1_col3\" class=\"data row1 col3\" >L2STS</td>\n",
       "      <td id=\"T_3a9cb_row1_col4\" class=\"data row1 col4\" >None</td>\n",
       "      <td id=\"T_3a9cb_row1_col5\" class=\"data row1 col5\" >None</td>\n",
       "      <td id=\"T_3a9cb_row1_col6\" class=\"data row1 col6\" >None</td>\n",
       "      <td id=\"T_3a9cb_row1_col7\" class=\"data row1 col7\" >Active</td>\n",
       "      <td id=\"T_3a9cb_row1_col8\" class=\"data row1 col8\" ></td>\n",
       "    </tr>\n",
       "    <tr>\n",
       "      <td id=\"T_3a9cb_row2_col0\" class=\"data row2 col0\" >9e22851f-765d-42de-ac48-f66dbeecaf3a</td>\n",
       "      <td id=\"T_3a9cb_row2_col1\" class=\"data row2 col1\" >net3</td>\n",
       "      <td id=\"T_3a9cb_row2_col2\" class=\"data row2 col2\" >L2</td>\n",
       "      <td id=\"T_3a9cb_row2_col3\" class=\"data row2 col3\" >L2STS</td>\n",
       "      <td id=\"T_3a9cb_row2_col4\" class=\"data row2 col4\" >None</td>\n",
       "      <td id=\"T_3a9cb_row2_col5\" class=\"data row2 col5\" >None</td>\n",
       "      <td id=\"T_3a9cb_row2_col6\" class=\"data row2 col6\" >None</td>\n",
       "      <td id=\"T_3a9cb_row2_col7\" class=\"data row2 col7\" >Active</td>\n",
       "      <td id=\"T_3a9cb_row2_col8\" class=\"data row2 col8\" ></td>\n",
       "    </tr>\n",
       "  </tbody>\n",
       "</table>\n"
      ],
      "text/plain": [
       "<pandas.io.formats.style.Styler at 0x7efc380cfc40>"
      ]
     },
     "metadata": {},
     "output_type": "display_data"
    },
    {
     "data": {
      "text/html": [
       "<style type=\"text/css\">\n",
       "#T_df17a caption {\n",
       "  text-align: center;\n",
       "  font-size: 150%;\n",
       "  caption-side: top;\n",
       "}\n",
       "#T_df17a th {\n",
       "  text-align: left;\n",
       "}\n",
       "#T_df17a tr:nth-child(even) {\n",
       "  background: #ffffff;\n",
       "  color: #231f20;\n",
       "}\n",
       "#T_df17a tr:nth-child(odd) {\n",
       "  background: #dbf3ff;\n",
       "  color: #231f20;\n",
       "}\n",
       "#T_df17a .level0 {\n",
       "  border: 1px black solid !important;\n",
       "  background: #ffffff;\n",
       "  color: #231f20;\n",
       "}\n",
       "#T_df17a_row0_col0, #T_df17a_row0_col1, #T_df17a_row0_col2, #T_df17a_row0_col3, #T_df17a_row0_col4, #T_df17a_row0_col5, #T_df17a_row0_col6, #T_df17a_row0_col7, #T_df17a_row0_col8, #T_df17a_row0_col9, #T_df17a_row0_col10, #T_df17a_row0_col11, #T_df17a_row1_col0, #T_df17a_row1_col1, #T_df17a_row1_col2, #T_df17a_row1_col3, #T_df17a_row1_col4, #T_df17a_row1_col5, #T_df17a_row1_col6, #T_df17a_row1_col7, #T_df17a_row1_col8, #T_df17a_row1_col9, #T_df17a_row1_col10, #T_df17a_row1_col11, #T_df17a_row2_col0, #T_df17a_row2_col1, #T_df17a_row2_col2, #T_df17a_row2_col3, #T_df17a_row2_col4, #T_df17a_row2_col5, #T_df17a_row2_col6, #T_df17a_row2_col7, #T_df17a_row2_col8, #T_df17a_row2_col9, #T_df17a_row2_col10, #T_df17a_row2_col11, #T_df17a_row3_col0, #T_df17a_row3_col1, #T_df17a_row3_col2, #T_df17a_row3_col3, #T_df17a_row3_col4, #T_df17a_row3_col5, #T_df17a_row3_col6, #T_df17a_row3_col7, #T_df17a_row3_col8, #T_df17a_row3_col9, #T_df17a_row3_col10, #T_df17a_row3_col11, #T_df17a_row4_col0, #T_df17a_row4_col1, #T_df17a_row4_col2, #T_df17a_row4_col3, #T_df17a_row4_col4, #T_df17a_row4_col5, #T_df17a_row4_col6, #T_df17a_row4_col7, #T_df17a_row4_col8, #T_df17a_row4_col9, #T_df17a_row4_col10, #T_df17a_row4_col11, #T_df17a_row5_col0, #T_df17a_row5_col1, #T_df17a_row5_col2, #T_df17a_row5_col3, #T_df17a_row5_col4, #T_df17a_row5_col5, #T_df17a_row5_col6, #T_df17a_row5_col7, #T_df17a_row5_col8, #T_df17a_row5_col9, #T_df17a_row5_col10, #T_df17a_row5_col11 {\n",
       "  text-align: left;\n",
       "  border: 1px #231f20 solid !important;\n",
       "  overwrite: False;\n",
       "}\n",
       "</style>\n",
       "<table id=\"T_df17a\">\n",
       "  <caption>Interfaces</caption>\n",
       "  <thead>\n",
       "    <tr>\n",
       "      <th id=\"T_df17a_level0_col0\" class=\"col_heading level0 col0\" >Name</th>\n",
       "      <th id=\"T_df17a_level0_col1\" class=\"col_heading level0 col1\" >Short Name</th>\n",
       "      <th id=\"T_df17a_level0_col2\" class=\"col_heading level0 col2\" >Node</th>\n",
       "      <th id=\"T_df17a_level0_col3\" class=\"col_heading level0 col3\" >Network</th>\n",
       "      <th id=\"T_df17a_level0_col4\" class=\"col_heading level0 col4\" >Bandwidth</th>\n",
       "      <th id=\"T_df17a_level0_col5\" class=\"col_heading level0 col5\" >Mode</th>\n",
       "      <th id=\"T_df17a_level0_col6\" class=\"col_heading level0 col6\" >VLAN</th>\n",
       "      <th id=\"T_df17a_level0_col7\" class=\"col_heading level0 col7\" >MAC</th>\n",
       "      <th id=\"T_df17a_level0_col8\" class=\"col_heading level0 col8\" >Physical Device</th>\n",
       "      <th id=\"T_df17a_level0_col9\" class=\"col_heading level0 col9\" >Device</th>\n",
       "      <th id=\"T_df17a_level0_col10\" class=\"col_heading level0 col10\" >IP Address</th>\n",
       "      <th id=\"T_df17a_level0_col11\" class=\"col_heading level0 col11\" >Numa Node</th>\n",
       "    </tr>\n",
       "  </thead>\n",
       "  <tbody>\n",
       "    <tr>\n",
       "      <td id=\"T_df17a_row0_col0\" class=\"data row0 col0\" >sender-None-p1</td>\n",
       "      <td id=\"T_df17a_row0_col1\" class=\"data row0 col1\" >p1</td>\n",
       "      <td id=\"T_df17a_row0_col2\" class=\"data row0 col2\" >sender</td>\n",
       "      <td id=\"T_df17a_row0_col3\" class=\"data row0 col3\" >net1</td>\n",
       "      <td id=\"T_df17a_row0_col4\" class=\"data row0 col4\" >100</td>\n",
       "      <td id=\"T_df17a_row0_col5\" class=\"data row0 col5\" >config</td>\n",
       "      <td id=\"T_df17a_row0_col6\" class=\"data row0 col6\" ></td>\n",
       "      <td id=\"T_df17a_row0_col7\" class=\"data row0 col7\" >02:FD:CF:9D:C9:F8</td>\n",
       "      <td id=\"T_df17a_row0_col8\" class=\"data row0 col8\" >ens7</td>\n",
       "      <td id=\"T_df17a_row0_col9\" class=\"data row0 col9\" >ens7</td>\n",
       "      <td id=\"T_df17a_row0_col10\" class=\"data row0 col10\" >None</td>\n",
       "      <td id=\"T_df17a_row0_col11\" class=\"data row0 col11\" >4</td>\n",
       "    </tr>\n",
       "    <tr>\n",
       "      <td id=\"T_df17a_row1_col0\" class=\"data row1 col0\" >receiver-None-p1</td>\n",
       "      <td id=\"T_df17a_row1_col1\" class=\"data row1 col1\" >p1</td>\n",
       "      <td id=\"T_df17a_row1_col2\" class=\"data row1 col2\" >receiver</td>\n",
       "      <td id=\"T_df17a_row1_col3\" class=\"data row1 col3\" >net2</td>\n",
       "      <td id=\"T_df17a_row1_col4\" class=\"data row1 col4\" >100</td>\n",
       "      <td id=\"T_df17a_row1_col5\" class=\"data row1 col5\" >config</td>\n",
       "      <td id=\"T_df17a_row1_col6\" class=\"data row1 col6\" ></td>\n",
       "      <td id=\"T_df17a_row1_col7\" class=\"data row1 col7\" >1E:C7:24:15:DF:1C</td>\n",
       "      <td id=\"T_df17a_row1_col8\" class=\"data row1 col8\" >ens7</td>\n",
       "      <td id=\"T_df17a_row1_col9\" class=\"data row1 col9\" >ens7</td>\n",
       "      <td id=\"T_df17a_row1_col10\" class=\"data row1 col10\" >None</td>\n",
       "      <td id=\"T_df17a_row1_col11\" class=\"data row1 col11\" >4</td>\n",
       "    </tr>\n",
       "    <tr>\n",
       "      <td id=\"T_df17a_row2_col0\" class=\"data row2 col0\" >collector-None-p1</td>\n",
       "      <td id=\"T_df17a_row2_col1\" class=\"data row2 col1\" >p1</td>\n",
       "      <td id=\"T_df17a_row2_col2\" class=\"data row2 col2\" >collector</td>\n",
       "      <td id=\"T_df17a_row2_col3\" class=\"data row2 col3\" >net3</td>\n",
       "      <td id=\"T_df17a_row2_col4\" class=\"data row2 col4\" >100</td>\n",
       "      <td id=\"T_df17a_row2_col5\" class=\"data row2 col5\" >config</td>\n",
       "      <td id=\"T_df17a_row2_col6\" class=\"data row2 col6\" ></td>\n",
       "      <td id=\"T_df17a_row2_col7\" class=\"data row2 col7\" >06:CA:C5:D9:A6:44</td>\n",
       "      <td id=\"T_df17a_row2_col8\" class=\"data row2 col8\" >ens7</td>\n",
       "      <td id=\"T_df17a_row2_col9\" class=\"data row2 col9\" >ens7</td>\n",
       "      <td id=\"T_df17a_row2_col10\" class=\"data row2 col10\" >None</td>\n",
       "      <td id=\"T_df17a_row2_col11\" class=\"data row2 col11\" >4</td>\n",
       "    </tr>\n",
       "    <tr>\n",
       "      <td id=\"T_df17a_row3_col0\" class=\"data row3 col0\" >switch-net3_nic-p1</td>\n",
       "      <td id=\"T_df17a_row3_col1\" class=\"data row3 col1\" >p1</td>\n",
       "      <td id=\"T_df17a_row3_col2\" class=\"data row3 col2\" >switch</td>\n",
       "      <td id=\"T_df17a_row3_col3\" class=\"data row3 col3\" >net3</td>\n",
       "      <td id=\"T_df17a_row3_col4\" class=\"data row3 col4\" >100</td>\n",
       "      <td id=\"T_df17a_row3_col5\" class=\"data row3 col5\" >config</td>\n",
       "      <td id=\"T_df17a_row3_col6\" class=\"data row3 col6\" ></td>\n",
       "      <td id=\"T_df17a_row3_col7\" class=\"data row3 col7\" >26:B5:02:38:49:A5</td>\n",
       "      <td id=\"T_df17a_row3_col8\" class=\"data row3 col8\" >ens9</td>\n",
       "      <td id=\"T_df17a_row3_col9\" class=\"data row3 col9\" >ens9</td>\n",
       "      <td id=\"T_df17a_row3_col10\" class=\"data row3 col10\" >None</td>\n",
       "      <td id=\"T_df17a_row3_col11\" class=\"data row3 col11\" >4</td>\n",
       "    </tr>\n",
       "    <tr>\n",
       "      <td id=\"T_df17a_row4_col0\" class=\"data row4 col0\" >switch-net1_nic-p1</td>\n",
       "      <td id=\"T_df17a_row4_col1\" class=\"data row4 col1\" >p1</td>\n",
       "      <td id=\"T_df17a_row4_col2\" class=\"data row4 col2\" >switch</td>\n",
       "      <td id=\"T_df17a_row4_col3\" class=\"data row4 col3\" >net1</td>\n",
       "      <td id=\"T_df17a_row4_col4\" class=\"data row4 col4\" >100</td>\n",
       "      <td id=\"T_df17a_row4_col5\" class=\"data row4 col5\" >config</td>\n",
       "      <td id=\"T_df17a_row4_col6\" class=\"data row4 col6\" ></td>\n",
       "      <td id=\"T_df17a_row4_col7\" class=\"data row4 col7\" >12:99:7A:78:6C:25</td>\n",
       "      <td id=\"T_df17a_row4_col8\" class=\"data row4 col8\" >ens7</td>\n",
       "      <td id=\"T_df17a_row4_col9\" class=\"data row4 col9\" >ens7</td>\n",
       "      <td id=\"T_df17a_row4_col10\" class=\"data row4 col10\" >None</td>\n",
       "      <td id=\"T_df17a_row4_col11\" class=\"data row4 col11\" >4</td>\n",
       "    </tr>\n",
       "    <tr>\n",
       "      <td id=\"T_df17a_row5_col0\" class=\"data row5 col0\" >switch-net2_nic-p1</td>\n",
       "      <td id=\"T_df17a_row5_col1\" class=\"data row5 col1\" >p1</td>\n",
       "      <td id=\"T_df17a_row5_col2\" class=\"data row5 col2\" >switch</td>\n",
       "      <td id=\"T_df17a_row5_col3\" class=\"data row5 col3\" >net2</td>\n",
       "      <td id=\"T_df17a_row5_col4\" class=\"data row5 col4\" >100</td>\n",
       "      <td id=\"T_df17a_row5_col5\" class=\"data row5 col5\" >config</td>\n",
       "      <td id=\"T_df17a_row5_col6\" class=\"data row5 col6\" ></td>\n",
       "      <td id=\"T_df17a_row5_col7\" class=\"data row5 col7\" >26:94:F7:88:34:1A</td>\n",
       "      <td id=\"T_df17a_row5_col8\" class=\"data row5 col8\" >ens8</td>\n",
       "      <td id=\"T_df17a_row5_col9\" class=\"data row5 col9\" >ens8</td>\n",
       "      <td id=\"T_df17a_row5_col10\" class=\"data row5 col10\" >None</td>\n",
       "      <td id=\"T_df17a_row5_col11\" class=\"data row5 col11\" >4</td>\n",
       "    </tr>\n",
       "  </tbody>\n",
       "</table>\n"
      ],
      "text/plain": [
       "<pandas.io.formats.style.Styler at 0x7efc380a27f0>"
      ]
     },
     "metadata": {},
     "output_type": "display_data"
    },
    {
     "name": "stdout",
     "output_type": "stream",
     "text": [
      "\n",
      "Time to print interfaces 361 seconds\n"
     ]
    }
   ],
   "source": [
    "#Submit Slice Request\n",
    "slice.submit();"
   ]
  },
  {
   "cell_type": "markdown",
   "id": "865e6b9c-3e59-4eac-81f5-1674eebe3e24",
   "metadata": {},
   "source": [
    "# Step 4: Installing the required packages\n",
    "In this step, we will install the required packages to run the labs. Specifically, we will install the BMv2 software switch and its control plane, the P4 compiler (p4c), and net-tools.\n"
   ]
  },
  {
   "cell_type": "markdown",
   "id": "db92961c-369f-4e13-8921-b6ff6c974ad3",
   "metadata": {},
   "source": [
    "## Step 4.1 Installing BMv2\n",
    "The BMv2 software switch will be installed on the switch node. We will upload the script [scripts/install_bmv2.sh](./scripts/install_bmv2.sh) to the switch and execute it"
   ]
  },
  {
   "cell_type": "code",
   "execution_count": 51,
   "id": "3ba26943-2f8e-4c9f-8944-8ba7b3efdf85",
   "metadata": {},
   "outputs": [],
   "source": [
    "switch = slice.get_node(name=\"switch\")     \n",
    "switch.upload_file('scripts/install_bmv2.sh', 'install_bmv2.sh')\n",
    "stdout, stderr = switch.execute(f'chmod +x install_bmv2.sh &&  ./install_bmv2.sh',quiet=True)"
   ]
  },
  {
   "cell_type": "markdown",
   "id": "e2c7ebaa-aa9e-43a8-9292-593a85dd6dc3",
   "metadata": {
    "tags": []
   },
   "source": [
    "## Step 4.2 Installing net-tools\n",
    "The net-tools package will be installed on the Sender, Receiver, Collector, and Switch nodes. This package will allow us to use the ifconfig and the arp commands "
   ]
  },
  {
   "cell_type": "code",
   "execution_count": 52,
   "id": "23cacc52-8185-40f1-8eaf-b391ce1b720e",
   "metadata": {},
   "outputs": [],
   "source": [
    "sender = slice.get_node(name=\"sender\")\n",
    "receiver = slice.get_node(name=\"receiver\")\n",
    "collector = slice.get_node(name=\"collector\")\n",
    "switch = slice.get_node(name=\"switch\")\n",
    "stdout, stderr = sender.execute(f'sudo apt-get install -y net-tools', quiet=True)\n",
    "stdout, stderr = receiver.execute(f'sudo apt-get install -y net-tools', quiet=True)\n",
    "stdout, stderr = collector.execute(f'sudo apt-get install -y net-tools', quiet=True)\n",
    "stdout, stderr = switch.execute(f'sudo apt-get install -y net-tools', quiet=True)"
   ]
  },
  {
   "cell_type": "markdown",
   "id": "1c97b66b-0723-4bdd-9677-c02b430b5d44",
   "metadata": {},
   "source": [
    "## Step 4.3 Installing scapy\n",
    "Installing scapy to be able to craft and send raw packets on the servers\n"
   ]
  },
  {
   "cell_type": "code",
   "execution_count": 53,
   "id": "e0e47072-8f02-4285-8ea3-bf6fa5977d77",
   "metadata": {},
   "outputs": [],
   "source": [
    "stdout, stderr = sender.execute(f'sudo apt-get install -y python3-scapy', quiet=True)\n",
    "stdout, stderr = receiver.execute(f'sudo apt-get install -y python3-scapy', quiet=True)\n",
    "stdout, stderr = collector.execute(f'sudo apt-get install -y python3-scapy', quiet=True)"
   ]
  },
  {
   "cell_type": "markdown",
   "id": "8edae1d9-dc1b-4a34-a1f7-f2533d11c908",
   "metadata": {},
   "source": [
    "# Step 5: Assigning IP and MAC addresses\n",
    "In this step, we will assign IPv4 addresses to the interfaces of the servers and the switch. We will also hardcode the MAC addresses. "
   ]
  },
  {
   "cell_type": "markdown",
   "id": "956741f7-de30-4bdd-afd2-e4598b6cc808",
   "metadata": {},
   "source": [
    "## Step 5.1: Get interfaces names\n",
    "In this step we will get the interface names so that we can assign IP addresses to them. Map the printed interface names to those seen in this figure:\n",
    "\n",
    "<img src=\"./labs_files/queue/figs/iface_names.png\" width=\"550px\"><br>"
   ]
  },
  {
   "cell_type": "code",
   "execution_count": 54,
   "id": "367b34bb-baef-4d39-9041-ed346b34d990",
   "metadata": {},
   "outputs": [
    {
     "name": "stdout",
     "output_type": "stream",
     "text": [
      "sender_iface: ens7\n",
      "receiver_iface: ens7\n",
      "collector_iface: ens7\n",
      "switch_iface1: ens7\n",
      "switch_iface2: ens8\n",
      "switch_iface3: ens9\n"
     ]
    }
   ],
   "source": [
    "sender = slice.get_node(name=\"sender\")     \n",
    "sender_iface = sender.get_interface(network_name='net1') \n",
    "sender_iface_name = sender_iface.get_device_name()\n",
    "print(f'sender_iface: {sender_iface_name}')\n",
    "\n",
    "receiver = slice.get_node(name=\"receiver\")     \n",
    "receiver_iface = receiver.get_interface(network_name='net2') \n",
    "receiver_iface_name = receiver_iface.get_device_name()\n",
    "print(f'receiver_iface: {receiver_iface_name}')\n",
    "\n",
    "collector = slice.get_node(name=\"collector\")     \n",
    "collector_iface = collector.get_interface(network_name='net3') \n",
    "collector_iface_name = collector_iface.get_device_name()\n",
    "print(f'collector_iface: {collector_iface_name}')\n",
    "\n",
    "switch = slice.get_node(name=\"switch\")     \n",
    "switch_iface1 = switch.get_interface(network_name='net1') \n",
    "switch_iface1_name = switch_iface1.get_device_name()\n",
    "print(f'switch_iface1: {switch_iface1_name}')\n",
    "\n",
    "switch = slice.get_node(name=\"switch\")     \n",
    "switch_iface2 = switch.get_interface(network_name='net2') \n",
    "switch_iface2_name = switch_iface2.get_device_name()\n",
    "print(f'switch_iface2: {switch_iface2_name}')\n",
    "\n",
    "switch = slice.get_node(name=\"switch\")     \n",
    "switch_iface3 = switch.get_interface(network_name='net3') \n",
    "switch_iface3_name = switch_iface3.get_device_name()\n",
    "print(f'switch_iface3: {switch_iface3_name}')"
   ]
  },
  {
   "cell_type": "markdown",
   "id": "42f0264f-7b70-4533-838e-a5671858da5f",
   "metadata": {
    "tags": []
   },
   "source": [
    "## Step 5.2: Turning all interfaces up\n",
    "In this step, we will use the ip link command to turn the interfaces up\n",
    "\n",
    "<img src=\"./labs_files/queue/figs/ifaces_up.png\" width=\"550px\"><br>"
   ]
  },
  {
   "cell_type": "code",
   "execution_count": 55,
   "id": "21a2c265-a7ca-4a06-a8f0-b8023afaf779",
   "metadata": {
    "tags": []
   },
   "outputs": [],
   "source": [
    "stdout, stderr = sender.execute(f'sudo ip link set dev {sender_iface_name} up', quiet=True)\n",
    "stdout, stderr = receiver.execute(f'sudo ip link set dev {receiver_iface_name} up', quiet=True)\n",
    "stdout, stderr = collector.execute(f'sudo ip link set dev {collector_iface_name} up', quiet=True)\n",
    "stdout, stderr = switch.execute(f'sudo ip link set dev {switch_iface1_name} up', quiet=True)\n",
    "stdout, stderr = switch.execute(f'sudo ip link set dev {switch_iface2_name} up', quiet=True)\n",
    "stdout, stderr = switch.execute(f'sudo ip link set dev {switch_iface3_name} up', quiet=True)"
   ]
  },
  {
   "cell_type": "markdown",
   "id": "5275dd72-a36b-4fc9-9c67-5948d465a332",
   "metadata": {
    "tags": []
   },
   "source": [
    "## Step 5.3: Hardcode MAC addresses\n",
    "For simplicity, we will use the following MAC addresses for the interfaces:\n",
    "<ul>\n",
    "    <li> sender_iface_MAC = '00:00:00:00:00:01' (shown as 00:01 in the figure below) </li>\n",
    "    <li>switch_iface1_MAC = '00:00:00:00:00:02' (shown as 00:02 in the figure below)</li>\n",
    "    <li>switch_iface2_MAC = '00:00:00:00:00:03' (shown as 00:03 in the figure below)</li>\n",
    "    <li>switch_iface3_MAC = '00:00:00:00:00:04' (shown as 00:04 in the figure below)</li>\n",
    "    <li>receiver_iface_MAC = '00:00:00:00:00:05' (shown as 00:05 in the figure below)</li>\n",
    "    <li>collector_iface_MAC = '00:00:00:00:00:06' (shown as 00:06 in the figure below)</li>\n",
    "</ul>\n",
    "\n",
    "<img src=\"./labs_files/queue/figs/macs.png\" width=\"550px\"><br>"
   ]
  },
  {
   "cell_type": "code",
   "execution_count": 56,
   "id": "7d7f7870-b447-4fb9-adb9-c97fb8d8dc23",
   "metadata": {
    "tags": []
   },
   "outputs": [],
   "source": [
    "sender_iface_MAC = '00:00:00:00:00:01'\n",
    "switch_iface1_MAC = '00:00:00:00:00:02'\n",
    "switch_iface2_MAC = '00:00:00:00:00:03'\n",
    "switch_iface3_MAC = '00:00:00:00:00:04'\n",
    "receiver_iface_MAC = '00:00:00:00:00:05'\n",
    "collector_iface_MAC = '00:00:00:00:00:06'"
   ]
  },
  {
   "cell_type": "markdown",
   "id": "79d5bc5b-91f1-4097-a2b3-71c47259599e",
   "metadata": {},
   "source": [
    "## Step 5.4 Configuring the IP and MAC addresses on server1_iface and switch_iface1\n",
    "\n",
    "We will use the network 192.168.1.0/24 between Site1 and Site2. We will assign the IP address 192.168.1.10 to server1's interface and 192.168.1.1 to its neighboring interface on the switch.\n",
    "\n",
    "<img src=\"./labs_files/queue/figs/sender_switch_ip.png\" width=\"550px\"><br>"
   ]
  },
  {
   "cell_type": "code",
   "execution_count": 57,
   "id": "30979a1c-36b7-4a9b-9eb5-0d8964db1ce2",
   "metadata": {
    "tags": []
   },
   "outputs": [],
   "source": [
    "sender = slice.get_node(name=\"sender\")     \n",
    "\n",
    "sender_switch_subnet = \"192.168.1.0/24\"\n",
    "sender_ip = '192.168.1.10/24'\n",
    "switch_ip1 = '192.168.1.1/24'\n",
    "\n",
    "stdout, stderr = sender.execute(f'sudo ifconfig {sender_iface_name} {sender_ip}')\n",
    "stdout, stderr = switch.execute(f'sudo ifconfig {switch_iface1_name} {switch_ip1}')\n",
    "\n",
    "stdout, stderr = sender.execute(f'sudo ifconfig {sender_iface_name} hw ether {sender_iface_MAC}')\n",
    "stdout, stderr = switch.execute(f'sudo ifconfig {switch_iface1_name} hw ether {switch_iface1_MAC}')"
   ]
  },
  {
   "cell_type": "markdown",
   "id": "371a4689-324a-4a1d-9473-096682eb63f7",
   "metadata": {
    "tags": []
   },
   "source": [
    "## Step 5.5: Configuring the IP and MAC addresses on switch_iface2 and server2_iface\n",
    "\n",
    "We will use the network 192.168.2.0/24 between Site2 and Site3. We will assign the IP address 192.168.2.10 to server2's interface and 192.168.2.1 to its neighboring interface on the switch.\n",
    "\n",
    "<img src=\"./labs_files/queue/figs/rec_switch_ip.png\" width=\"550px\"><br>"
   ]
  },
  {
   "cell_type": "code",
   "execution_count": 58,
   "id": "bac1c500-6f71-4aa9-b8fa-99d608a0bff6",
   "metadata": {
    "tags": []
   },
   "outputs": [],
   "source": [
    "receiver = slice.get_node(name=\"receiver\")     \n",
    "\n",
    "receiver_switch_subnet = \"192.168.2.0/24\"\n",
    "receiver_ip = '192.168.2.10/24'\n",
    "switch_ip2 = '192.168.2.1/24'\n",
    "\n",
    "stdout, stderr = receiver.execute(f'sudo ifconfig {receiver_iface_name} {receiver_ip}')\n",
    "stdout, stderr = switch.execute(f'sudo ifconfig {switch_iface2_name} {switch_ip2}')\n",
    "\n",
    "stdout, stderr = receiver.execute(f'sudo ifconfig {receiver_iface_name} hw ether {receiver_iface_MAC}')\n",
    "stdout, stderr = switch.execute(f'sudo ifconfig {switch_iface2_name} hw ether {switch_iface2_MAC}')"
   ]
  },
  {
   "cell_type": "markdown",
   "id": "59b58f9f-f1f7-48ee-a635-8950de717b3a",
   "metadata": {
    "tags": []
   },
   "source": [
    "## Step 5.6: Configuring the IP and MAC addresses on switch_iface3 and collector_iface\n",
    "\n",
    "We will use the network 192.168.3.0/24 between Site2 and Site4. We will assign the IP address 192.168.3.10 to collector's interface and 192.168.3.1 to its neighboring interface on the switch.\n",
    "\n",
    "<img src=\"./labs_files/queue/figs/collector_switch_ip.png\" width=\"550px\"><br>"
   ]
  },
  {
   "cell_type": "code",
   "execution_count": 59,
   "id": "125dbfb5-6b9e-4850-8ba2-a756fe7c8609",
   "metadata": {
    "tags": []
   },
   "outputs": [],
   "source": [
    "collector = slice.get_node(name=\"collector\")     \n",
    "\n",
    "collector_switch_subnet = \"192.168.3.0/24\"\n",
    "collector_ip = '192.168.3.10/24'\n",
    "switch_ip3 = '192.168.3.1/24'\n",
    "\n",
    "stdout, stderr = collector.execute(f'sudo ifconfig {collector_iface_name} {collector_ip}')\n",
    "stdout, stderr = switch.execute(f'sudo ifconfig {switch_iface3_name} {switch_ip3}')\n",
    "\n",
    "stdout, stderr = collector.execute(f'sudo ifconfig {collector_iface_name} hw ether {collector_iface_MAC}')\n",
    "stdout, stderr = switch.execute(f'sudo ifconfig {switch_iface3_name} hw ether {switch_iface3_MAC}')"
   ]
  },
  {
   "cell_type": "markdown",
   "id": "ed199b6d-f341-4f24-9c0b-a64631ece324",
   "metadata": {},
   "source": [
    "# Step 6: Configure forwarding and routing"
   ]
  },
  {
   "cell_type": "markdown",
   "id": "c90a6594-ea6e-4d87-9925-3baf5571096c",
   "metadata": {},
   "source": [
    "## Step 6.1: Enable forwarding on the switch\n",
    "\n",
    "The command \"sudo sysctl -w net.ipv4.ip_forward=1\" is used to enable IP forwarding on a Linux system.\n",
    "\n",
    "IP forwarding is a feature that allows a system to act as a router by forwarding network packets from one network interface to another. By default, IP forwarding is usually disabled on Linux systems for security reasons. "
   ]
  },
  {
   "cell_type": "code",
   "execution_count": 60,
   "id": "0b0b5f62-4ac8-486b-b0a6-e8e468161a31",
   "metadata": {},
   "outputs": [],
   "source": [
    "command = 'sudo sysctl -w net.ipv4.ip_forward=1' \n",
    "stdout, stderr = switch.execute(command, quiet=True)"
   ]
  },
  {
   "cell_type": "markdown",
   "id": "6a4e3170-f17f-495e-bd2c-1361bc1d2317",
   "metadata": {},
   "source": [
    "## Step 6.2: Delete routing entries for the routes to force traffic to go through the BMv2 switch\n",
    "\n",
    "In this step, we are deleting the routes on the switch's routing table in Linux. By deleting the routes, the packets will go through the BMv2 switch instead of being forwarded by the kernel"
   ]
  },
  {
   "cell_type": "code",
   "execution_count": 61,
   "id": "d32e28ee-d890-4ee0-bf1c-d6b6eedfb9c0",
   "metadata": {},
   "outputs": [],
   "source": [
    "stdout, stderr = switch.execute(f'sudo ip route del {sender_switch_subnet}', quiet=True)\n",
    "stdout, stderr = switch.execute(f'sudo ip route del {receiver_switch_subnet}', quiet=True)\n",
    "stdout, stderr = switch.execute(f'sudo ip route del {collector_switch_subnet}', quiet=True)"
   ]
  },
  {
   "cell_type": "markdown",
   "id": "c2dc3837-d493-48c0-92b8-244296e166ee",
   "metadata": {},
   "source": [
    "## Step 6.3: Configure routing\n",
    "\n",
    "In this step, we will configure static routes on server1 and server2. \n",
    "<ul>\n",
    "    <li> For Sender, we will add a route to reach the network 192.168.2.0/24 via 192.168.1.1 and the network 192.168.3.0/24 via 192.168.1.1 </li>\n",
    "    <li> For Receiver, we will add a route to reach the network 192.168.1.0/24 via 192.168.2.1 and the network 192.168.3.0/24 via 192.168.2.1 </li>\n",
    "    <li> For Collector, we will add a route to reach the network 192.168.1.0/24 via 192.168.3.1 and the network 192.168.2.0/24 via 192.168.3.1 </li>\n",
    "</ul>\n",
    "\n",
    "<img src=\"./labs_files/queue/figs/routing.png\" width=\"550px\"><br>"
   ]
  },
  {
   "cell_type": "code",
   "execution_count": 62,
   "id": "69cdfdf5-011e-45c5-bab1-da388e4427a0",
   "metadata": {},
   "outputs": [],
   "source": [
    "gw1 = switch_ip1.split('/')[0]\n",
    "gw2 = switch_ip2.split('/')[0]\n",
    "gw3 = switch_ip3.split('/')[0]\n",
    "stdout, stderr = sender.execute(f'sudo ip route add {receiver_switch_subnet} via {gw1}')\n",
    "stdout, stderr = sender.execute(f'sudo ip route add {collector_switch_subnet} via {gw1}')\n",
    "\n",
    "stdout, stderr = receiver.execute(f'sudo ip route add {sender_switch_subnet} via {gw2}')\n",
    "stdout, stderr = receiver.execute(f'sudo ip route add {collector_switch_subnet} via {gw2}')\n",
    "\n",
    "stdout, stderr = collector.execute(f'sudo ip route add {sender_switch_subnet} via {gw3}')\n",
    "stdout, stderr = collector.execute(f'sudo ip route add {receiver_switch_subnet} via {gw3}')"
   ]
  },
  {
   "cell_type": "markdown",
   "id": "15edef9d-f7a5-4994-9d97-1a4b036a97be",
   "metadata": {
    "tags": []
   },
   "source": [
    "## Step 6.4: Configure ARP\n",
    "\n",
    "In this step, we will configure static ARP entries on server1 and server2. The reason we are doing this is because the switch does not process ARP packets unless programmed to. To make sure that ARP packets are not sent towards the switch, we will hardcode the MACs on the servers.\n",
    "\n",
    "For each server, we will add an ARP entry to its switch's neighboring interface."
   ]
  },
  {
   "cell_type": "code",
   "execution_count": 63,
   "id": "7bbf2b87-f92b-47c6-a6a7-4bae0a0a52a6",
   "metadata": {},
   "outputs": [],
   "source": [
    "stdout, stderr = sender.execute(f'sudo arp -s {gw1} {switch_iface1_MAC}')\n",
    "stdout, stderr = receiver.execute(f'sudo arp -s {gw2} {switch_iface2_MAC}')\n",
    "stdout, stderr = collector.execute(f'sudo arp -s {gw3} {switch_iface3_MAC}')"
   ]
  },
  {
   "cell_type": "markdown",
   "id": "02919ce9-ab5f-4f75-a0e0-08335a8d3b93",
   "metadata": {},
   "source": [
    "# Step 7: Creating a P4 program to report queue occupancy\n",
    "   \n",
    "In this section, you will create a P4 program to report queue occupancy values to the collector. For each incoming packet, the switch will clone it, append the queue occupancy to a custom header on the cloned instance, and forward the cloned instance to the collector.\n"
   ]
  },
  {
   "cell_type": "markdown",
   "id": "2b571c06-bfd5-464a-acf4-d28845c8e840",
   "metadata": {
    "jp-MarkdownHeadingCollapsed": true,
    "tags": []
   },
   "source": [
    "# Step 7.1: Defining a custom header \n",
    "\n",
    "Click on [headers.p4](./labs_files/queue/src/headers.p4) to open the file in the editor.\n",
    "\n",
    "Define the following custom header by adding the code shown below.\n",
    "\n",
    "    header queue_t {\n",
    "        bit<48> queue;\n",
    "    }\n",
    "\n",
    "\n",
    "<img src=\"./labs_files/queue/figs/header_queue.png\" width=\"550px\"><br>\n",
    "\n",
    "\n",
    "\n",
    "<hr>\n",
    "\n",
    "Append the custom header to current headers by inserting the following line of code. \n",
    "\n",
    "    queue_t queue;\n",
    "\n",
    "<img src=\"./labs_files/queue/figs/queue_t.png\" width=\"520px\"><br>\n",
    "\n",
    "\n",
    "**Save the changes by pressing Ctrl+s**."
   ]
  },
  {
   "cell_type": "markdown",
   "id": "2490bcce-4327-4762-ab59-4975138bc50c",
   "metadata": {
    "jp-MarkdownHeadingCollapsed": true,
    "tags": []
   },
   "source": [
    "# Step 7.2: Mirroring packets to the collector \n",
    "\n",
    "Click on [egress.p4](./labs_files/queue/src/egress.p4) to open the file in the editor.\n",
    "\n",
    "Add the following code in the egress.p4 file to assign value 2 to PKT_INSTANCE_TYPE_EGRESS_CLONE\n",
    "\n",
    "    #define PKT_INSTANCE_TYPE_EGRESS_CLONE 2\n",
    "\n",
    "<img src=\"./labs_files/queue/figs/define.png\" width=\"570px\"><br>\n",
    "\n",
    "<hr>\n",
    "\n",
    "Add the following code inside the apply block to check if the current packet is a cloned instance.\n",
    "\n",
    "    if(standard_metadata.instance_type != PKT_INSTANCE_TYPE_EGRESS_CLONE){\n",
    "    }\n",
    "\n",
    "<img src=\"./labs_files/queue/figs/if.png\" width=\"550px\"><br>\n",
    "\n",
    "In the code above, standard_metadata.instance_type specifies if the packet is an original instance or a cloned instance.  If the instance type is 2, then the instance is a cloned packet. Otherwise, the instance is an original packet. Thus, the if statement checks if the current packet is an original instance.\n",
    "\n",
    "<hr>\n",
    "\n",
    "Add the following code inside the if statement to clone original packets using egress to egress cloning.\n",
    "\n",
    "    clone_preserving_field_list(CloneType.E2E, 8, 0);\n",
    "\n",
    "<img src=\"./labs_files/queue/figs/clone_pres.png\" width=\"550px\"><br>\n",
    "\n",
    "The action clone_preserving_field_list has three parameters:\n",
    "<ul>\n",
    "    <li> Clone type: this parameter indicates the cloning type (e.g., ingress to egress). </li> \n",
    "    <li> Session ID: this parameter indicates the session ID to be attached to the cloned packets. The user defines the mirroring port of the cloned packets using their session IDs. </li>\n",
    "    <li> ID of the field list: this parameter indicates which list of metadata fields to preserve after cloning the packet. A field list should be defined in the metadata header.</li>\n",
    "</ul>\n",
    "  \n",
    "In the code above, the parameters have the following values:\n",
    "<ul>\n",
    " <li>Clone type is CloneType.E2E indicating that the cloning will be from the egress to the egress.</li>\n",
    "<li>Session ID is 8 indicating that the cloned packets will have session ID of value 8.</li>\n",
    "<li>ID of the field list is 0 indicating that no metadata should be preserved by the cloned packets. </li>\n",
    "</ul>\n",
    "\n",
    "<hr>\n",
    "\n",
    "Add the following code to discard the ipv4 and tcp headers of the packets that do not satisfy the if statement (i.e., cloned packets).\n",
    "\n",
    "    else{\n",
    "        hdr.ipv4.setInvalid();\n",
    "        hdr.tcp.setInvalid();\n",
    "    }\n",
    "\n",
    "<img src=\"./labs_files/queue/figs/else_block.png\" width=\"550px\"><br>\n",
    "\n",
    "In the code above, hdr.ipv4.setInvalid() action discards the IPv4 header, and consequently, discards all the data stored inside the header. This reduces the size of the cloned packet, reducing the needed storage at the collector. hdr.tcp.setInvalid() action discards the TCP header.\n",
    "\n",
    "Note that the Ethernet header is not discarded because it is used to route the packets to the collector. Because the collector and the switch are at the same network, the cloned packets can be routed using the Ethernet header only. However, if the collector was at a different network than the switch, then the IPv4 should be used to route the packet. \n",
    "\n",
    "<hr>\n",
    "\n",
    "Add the following code inside the else statement to set the header hdr.queue to valid and assign the queue depth of the switch to queue field of the header.\n",
    "\n",
    "    hdr.queue.setValid();\n",
    "    hdr.queue.queue = (bit<48>)standard_metadata.enq_qdepth;\n",
    "\n",
    "<img src=\"./labs_files/queue/figs/set_queue.png\" width=\"550px\"><br>\n",
    "\n",
    "In the code above, the header hdr.queue is set to valid so that the header can be assembled with the packet in the deparser. The queue occupancy is assigned to the queue field of the header (i.e., hdr.queue.queue) using the standard metadata enq_qdepth. Note that standard_metada.enq_qdepth is 19 bits long and it should be cast to 48 bits before being assigned to hdr.queue.queue. This header will be used to report the per-packet occupancy of the switch to the collector.\n",
    "\n",
    "<hr>\n",
    "\n",
    "Add the following code inside the else statement to discard the cloned packets’ payload.\n",
    "\n",
    "    truncate((bit<32>20);\n",
    "\n",
    "<img src=\"./labs_files/queue/figs/truncate.png\" width=\"550px\"><br>\n",
    "\n",
    "In the code above, truncate((bit<32>20) leaves the first 20 bytes of the packets and drops everything else. The 20 bytes represent the Ethernet and queue headers as follows: 6 bytes for the source MAC address, 6 bytes for the destination MAC address, 2 bytes to the Ethernet type, and 6 bytes for the queue field of the queue header.\n",
    "\n",
    "<hr>\n",
    "\n",
    "Add the following code inside the else statement to modify the Ethernet type of the cloned packets. \n",
    "\n",
    "    hdr.ethernet.etherType = 0X1234;\n",
    "\n",
    "<img src=\"./labs_files/queue/figs/hdr_ethernet.png\" width=\"550px\"><br>\n",
    "\n",
    "It is necessary to modify the Ethernet type field (hdr.ethernet.etherType) so that the collector can process the cloned packets. The cloned packets have the custom header queue. Because the queue header is after the Ethernet header, the Ethernet Type field should be modified to indicate that the next header is queue and not IPv4 or IPv6. The value of the Ethernet Type field should not be preserved by any protocol (e.g., 0x800 is preserved to IPv4 header and cannot be used).\n",
    "\n",
    "**Save the changes by pressing Ctrl+s**."
   ]
  },
  {
   "cell_type": "markdown",
   "id": "34aec2d9-e91f-4770-bb1f-04a6125e43f9",
   "metadata": {},
   "source": [
    "# Step 8: Testing the Program\n",
    "\n",
    "In this step, we will use the BMv2 switch with logging disabled. By disabling logging, the switch will be able to process traffic at higher rates. \n",
    "\n",
    "The binary of the BMv2 switch with logging disabled (*simple_switch_hp*) is located under *scripts/* directory. \n",
    "\n",
    "## Step 8.1: Uploading the high performance BMv2 binary to the switch device \n",
    "The command below uploads the binary to the switch device."
   ]
  },
  {
   "cell_type": "code",
   "execution_count": 64,
   "id": "822a0a75-f3b8-42e6-84df-7f1d62ff3af7",
   "metadata": {},
   "outputs": [
    {
     "data": {
      "text/plain": [
       "('', '')"
      ]
     },
     "execution_count": 64,
     "metadata": {},
     "output_type": "execute_result"
    }
   ],
   "source": [
    "switch.upload_file('scripts/simple_switch_hp', '/home/ubuntu/simple_switch_hp')\n",
    "switch.execute('chmod +x /home/ubuntu/simple_switch_hp')"
   ]
  },
  {
   "cell_type": "markdown",
   "id": "760d44a6-a387-4e04-b293-1ef234a1eed7",
   "metadata": {
    "tags": []
   },
   "source": [
    "## Step 8.2: Uploading the P4 program\n",
    "\n",
    "The P4 program [basic.p4](labs_files/lab4/src/basic.p4) is located under lab_files/lab3/src.\n",
    "\n",
    "We will be uploading the whole directory since it includes other P4 files. "
   ]
  },
  {
   "cell_type": "code",
   "execution_count": 65,
   "id": "929a0f19-cece-40cf-a474-6bb61d9a81c8",
   "metadata": {
    "tags": []
   },
   "outputs": [
    {
     "data": {
      "text/plain": [
       "'success'"
      ]
     },
     "execution_count": 65,
     "metadata": {},
     "output_type": "execute_result"
    }
   ],
   "source": [
    "switch = slice.get_node(name='switch')        \n",
    "switch.upload_directory('labs_files/queue/src', '/home/ubuntu/queue')"
   ]
  },
  {
   "cell_type": "markdown",
   "id": "1854ca50-5a3b-49f3-8b52-89fb53316eb9",
   "metadata": {},
   "source": [
    "## Step 8.3: Disable TCP offloading\n",
    "\n",
    "The command below disables TCP offloading. This step is crucial to get high rates."
   ]
  },
  {
   "cell_type": "code",
   "execution_count": 66,
   "id": "5ec94c0e-c6b1-4bda-afe2-268d3e139057",
   "metadata": {},
   "outputs": [],
   "source": [
    "switch.upload_file('scripts/disable_offload.sh', 'disable_offload.sh')\n",
    "stdout, stderr = switch.execute(f'sudo chmod +x ./disable_offload.sh && sudo ./disable_offload.sh {switch_iface1_name}', quiet=True)\n",
    "stdout, stderr = switch.execute(f'sudo chmod +x ./disable_offload.sh && sudo ./disable_offload.sh {switch_iface2_name}', quiet=True)\n",
    "stdout, stderr = switch.execute(f'sudo chmod +x ./disable_offload.sh && sudo ./disable_offload.sh {switch_iface3_name}', quiet=True)"
   ]
  },
  {
   "cell_type": "markdown",
   "id": "77114169-a166-4a18-8421-1e6e89da200d",
   "metadata": {
    "tags": []
   },
   "source": [
    "## Step 8.4 Installing iPerf3 and Scapy\n",
    "iPerf3 will be installed on Sender and Receiver nodes. Scapy will be installed on the collector. We will use the APT package manager for the installation. "
   ]
  },
  {
   "cell_type": "code",
   "execution_count": 67,
   "id": "8fc224f6-eff6-4182-ac2a-cb9e5be98dfb",
   "metadata": {},
   "outputs": [],
   "source": [
    "sender = slice.get_node(name=\"sender\")\n",
    "receiver = slice.get_node(name=\"receiver\")\n",
    "collector = slice.get_node(name=\"collector\")\n",
    "stdout, stderr = sender.execute(f'sudo apt-get update && sudo apt-get install -y iperf3', quiet=True)\n",
    "stdout, stderr = receiver.execute(f'sudo apt-get update && sudo apt-get install -y iperf3', quiet=True)\n",
    "stdout, stderr = collector.execute('sudo apt-get update && sudo apt-get install -y python3-scapy', quiet=True)"
   ]
  },
  {
   "cell_type": "markdown",
   "id": "9506d691-8706-4d21-b000-dcc1367b6829",
   "metadata": {},
   "source": [
    "## Step 8.5: Compiling the P4 program and running the switch\n",
    "\n",
    "This step will compile the P4 program, then it will stop the previous instance of the switch, will start the high performance switch and allocate the interfaces. "
   ]
  },
  {
   "cell_type": "code",
   "execution_count": 68,
   "id": "37e6e6c1-be97-44fd-81c2-f397ba72087c",
   "metadata": {},
   "outputs": [
    {
     "name": "stdout",
     "output_type": "stream",
     "text": [
      "\u001b[31m [--Wwarn=invalid] warning: no user metadata fields tagged with @field_list(0)\n",
      " \u001b[0mCalling target program-options parser\n",
      "Adding interface ens7 as port 0\n",
      "Adding interface ens8 as port 1\n",
      "Adding interface ens9 as port 2\n"
     ]
    }
   ],
   "source": [
    "stdout, stderr = switch.execute(f'sudo p4c queue/src/basic.p4')\n",
    "stdout, stderr = switch.execute(f'sudo /home/ubuntu/simple_switch_hp -i 0@{switch_iface1_name} -i 1@{switch_iface2_name} -i 2@{switch_iface3_name} basic.json &')"
   ]
  },
  {
   "cell_type": "markdown",
   "id": "fba3af06-e55e-4449-9588-55de69680c29",
   "metadata": {},
   "source": [
    "## Step 8.6: Populating forwarding table from the control plane\n",
    "\n",
    "In this step we will populate the forwarding table by executing a script. The following rules will be added:\n",
    "\n",
    "<ul>\n",
    "    <li>LPM match  : 192.168.1.0/24 => Output port 0\"</li>\n",
    "    <li>LPM match  : 192.168.2.0/24 => Output port 1\"</li>\n",
    "    <li>LPM match  : 192.168.3.0/24 => Output port 2\"</li>\n",
    "</ul>"
   ]
  },
  {
   "cell_type": "code",
   "execution_count": 69,
   "id": "2fad57b1-15a5-4a22-9a9f-ae1e8dd95daf",
   "metadata": {},
   "outputs": [
    {
     "name": "stdout",
     "output_type": "stream",
     "text": [
      "Obtaining JSON from switch...\n",
      "Done\n",
      "Control utility for runtime P4 table manipulation\n",
      "RuntimeCmd: Adding entry to lpm match table MyIngress.ipv4_lpm\n",
      "match key:           LPM-c0:a8:01:00/24\n",
      "action:              MyIngress.forward\n",
      "runtime data:        00:00:00:00:00:01\t00:00\n",
      "Entry has been added with handle 0\n",
      "RuntimeCmd: \n",
      "Obtaining JSON from switch...\n",
      "Done\n",
      "Control utility for runtime P4 table manipulation\n",
      "RuntimeCmd: Adding entry to lpm match table MyIngress.ipv4_lpm\n",
      "match key:           LPM-c0:a8:02:00/24\n",
      "action:              MyIngress.forward\n",
      "runtime data:        00:00:00:00:00:05\t00:01\n",
      "Entry has been added with handle 1\n",
      "RuntimeCmd: \n",
      "Obtaining JSON from switch...\n",
      "Done\n",
      "Control utility for runtime P4 table manipulation\n",
      "RuntimeCmd: Adding entry to lpm match table MyIngress.ipv4_lpm\n",
      "match key:           LPM-c0:a8:03:00/24\n",
      "action:              MyIngress.forward\n",
      "runtime data:        00:00:00:00:00:06\t00:02\n",
      "Entry has been added with handle 2\n",
      "RuntimeCmd: \n"
     ]
    }
   ],
   "source": [
    "stdout, stderr = switch.execute('chmod +x queue/src/rules.sh && queue/src/./rules.sh')"
   ]
  },
  {
   "cell_type": "markdown",
   "id": "5361119a-2b8b-415e-a8a9-e77466d3a5fd",
   "metadata": {},
   "source": [
    "## Step 8.7: Configuring queue rate and depth\n",
    "\n",
    "The first command below sets the queue rate to 1000 packets per second. The Maximum Transmission Unit (MTU) is 1500 bytes/packet. Thus, the sending rate is 1000 packets/second *1500 bytes/packet = 1,500,000 bytes/second = 1.5 Mbytes/second = 12 Mbits/second.\n",
    "\n",
    "The second command sets the buffer size to 2000 packets (i.e., ~3Mbytes).\n",
    "\n",
    "The third command sets a mirroring session towards the Collector."
   ]
  },
  {
   "cell_type": "code",
   "execution_count": null,
   "id": "cdb9ef6f-0c09-470c-8790-31320fb76009",
   "metadata": {},
   "outputs": [],
   "source": []
  },
  {
   "cell_type": "code",
   "execution_count": 70,
   "id": "8e0b567c-f0f4-455c-819a-5be119c72374",
   "metadata": {},
   "outputs": [
    {
     "name": "stdout",
     "output_type": "stream",
     "text": [
      "Obtaining JSON from switch...\n",
      "Done\n",
      "Control utility for runtime P4 table manipulation\n",
      "RuntimeCmd: RuntimeCmd: \n",
      "Obtaining JSON from switch...\n",
      "Done\n",
      "Control utility for runtime P4 table manipulation\n",
      "RuntimeCmd: RuntimeCmd: \n",
      "Obtaining JSON from switch...\n",
      "Done\n",
      "Control utility for runtime P4 table manipulation\n",
      "RuntimeCmd: RuntimeCmd: \n"
     ]
    }
   ],
   "source": [
    "stdout, stderr = switch.execute(f'echo \"set_queue_rate 10000\" | simple_switch_CLI')\n",
    "stdout, stderr = switch.execute(f'echo \"set_queue_depth 2000\" | simple_switch_CLI')\n",
    "stdout, stderr = switch.execute(f'echo \"mirroring_add 8 2\" | simple_switch_CLI')"
   ]
  },
  {
   "cell_type": "markdown",
   "id": "a84b6a68-11ee-483e-8828-f6227a0d0936",
   "metadata": {},
   "source": [
    "## Step 8.8: Starting iPerf3 on server2 "
   ]
  },
  {
   "cell_type": "code",
   "execution_count": 71,
   "id": "52a88662-99ae-4818-84a5-367f2f5b0ffe",
   "metadata": {},
   "outputs": [
    {
     "data": {
      "text/plain": [
       "<Future at 0x7efc380fe370 state=running>"
      ]
     },
     "execution_count": 71,
     "metadata": {},
     "output_type": "execute_result"
    }
   ],
   "source": [
    "receiver.execute_thread('iperf3 -s')"
   ]
  },
  {
   "cell_type": "markdown",
   "id": "f5c2c992-9bd2-4ca4-b11d-6767b5a904a2",
   "metadata": {},
   "source": [
    "## Step 8.9: Starting the collector process \n",
    "\n",
    "The command below pushes the collector python script to the node."
   ]
  },
  {
   "cell_type": "code",
   "execution_count": 72,
   "id": "581c9a26-e932-48d6-afdb-edf6e6dd0547",
   "metadata": {},
   "outputs": [],
   "source": [
    "collector.upload_file('labs_files/queue/src/collector.py', '/home/ubuntu/collector.py')\n",
    "collector.upload_file('labs_files/queue/src/average.sh', '/home/ubuntu/average.sh')\n",
    "stdout, stderr = collector.execute(f'chmod +x average.sh')"
   ]
  },
  {
   "cell_type": "markdown",
   "id": "6347dd45-6a6f-4760-929d-b16cbfda1f40",
   "metadata": {},
   "source": [
    "Launch a new terminal by clicking on the \"+\" button on the top left, then clicking on \"Terminal\". \n",
    "\n",
    "Copy the output of the command below and paste into the terminal to enter to the collector."
   ]
  },
  {
   "cell_type": "code",
   "execution_count": 73,
   "id": "bee8bd42-3003-4bb2-9412-3410eac742b9",
   "metadata": {},
   "outputs": [
    {
     "data": {
      "text/plain": [
       "'ssh -i /home/fabric/work/fabric_config/slice_key -F /home/fabric/work/fabric_config/ssh_config ubuntu@2001:18e8:fff0:3:f816:3eff:feba:3de7'"
      ]
     },
     "execution_count": 73,
     "metadata": {},
     "output_type": "execute_result"
    }
   ],
   "source": [
    "collector.get_ssh_command()"
   ]
  },
  {
   "cell_type": "markdown",
   "id": "d2f91967-a436-49d5-9e85-4fc5c2b98d64",
   "metadata": {},
   "source": [
    "Execute the following command in the terminal of the collector\n",
    "\n",
    "    sudo python3 collector.py | ./average.sh"
   ]
  },
  {
   "cell_type": "markdown",
   "id": "c6c4bee7-c4cf-4ab6-983c-204df86fdfa4",
   "metadata": {},
   "source": [
    "## Step 8.5: Testing with 50mbit rate \n",
    "\n",
    "In this step, we will start an iPerf3 client on the sender and set the rate to 50mbit. Since this rate is smaller than the bottleneck (100mbit), the queue will not be heavily used.\n",
    "\n",
    "**Execute the cell below and go back to the terminal of the Collector that you opened in the previous step.**\n",
    "\n",
    "Note that the queue latency is ~ 350us on average. We are averaging every 1000 samples using the ./average.sh script."
   ]
  },
  {
   "cell_type": "code",
   "execution_count": 77,
   "id": "5425e067-43d0-46de-a9fb-3a7b153107d1",
   "metadata": {},
   "outputs": [
    {
     "name": "stdout",
     "output_type": "stream",
     "text": [
      "Connecting to host 192.168.2.10, port 5201\n",
      "[  5] local 192.168.1.10 port 48528 connected to 192.168.2.10 port 5201\n",
      "[ ID] Interval           Transfer     Bitrate         Retr  Cwnd\n",
      "[  5]   0.00-1.00   sec  6.03 MBytes  50.6 Mbits/sec    0    206 KBytes       \n",
      "[  5]   1.00-2.00   sec  6.00 MBytes  50.3 Mbits/sec    0    206 KBytes       \n",
      "[  5]   2.00-3.00   sec  5.88 MBytes  49.3 Mbits/sec    0    206 KBytes       \n",
      "[  5]   3.00-4.00   sec  6.00 MBytes  50.3 Mbits/sec    0    206 KBytes       \n",
      "[  5]   4.00-5.00   sec  6.00 MBytes  50.3 Mbits/sec    0    206 KBytes       \n",
      "[  5]   5.00-6.00   sec  5.88 MBytes  49.3 Mbits/sec    0    206 KBytes       \n",
      "[  5]   6.00-7.00   sec  6.00 MBytes  50.3 Mbits/sec    0    206 KBytes       \n",
      "[  5]   7.00-8.00   sec  6.00 MBytes  50.3 Mbits/sec    0    206 KBytes       \n",
      "[  5]   8.00-9.00   sec  5.88 MBytes  49.3 Mbits/sec    0    206 KBytes       \n",
      "[  5]   9.00-10.00  sec  6.00 MBytes  50.3 Mbits/sec    0    206 KBytes       \n",
      "[  5]  10.00-11.00  sec  6.00 MBytes  50.3 Mbits/sec    0    206 KBytes       \n",
      "[  5]  11.00-12.00  sec  5.88 MBytes  49.3 Mbits/sec    0    206 KBytes       \n",
      "[  5]  12.00-13.00  sec  6.00 MBytes  50.3 Mbits/sec    0    206 KBytes       \n",
      "[  5]  13.00-14.00  sec  6.00 MBytes  50.3 Mbits/sec    0    206 KBytes       \n",
      "[  5]  14.00-15.00  sec  5.88 MBytes  49.3 Mbits/sec    0    206 KBytes       \n",
      "- - - - - - - - - - - - - - - - - - - - - - - - -\n",
      "[ ID] Interval           Transfer     Bitrate         Retr\n",
      "[  5]   0.00-15.00  sec  89.4 MBytes  50.0 Mbits/sec    0             sender\n",
      "[  5]   0.00-15.01  sec  89.4 MBytes  50.0 Mbits/sec                  receiver\n",
      "\n",
      "iperf Done.\n"
     ]
    },
    {
     "data": {
      "text/plain": [
       "('Connecting to host 192.168.2.10, port 5201\\n[  5] local 192.168.1.10 port 48528 connected to 192.168.2.10 port 5201\\n[ ID] Interval           Transfer     Bitrate         Retr  Cwnd\\n[  5]   0.00-1.00   sec  6.03 MBytes  50.6 Mbits/sec    0    206 KBytes       \\n[  5]   1.00-2.00   sec  6.00 MBytes  50.3 Mbits/sec    0    206 KBytes       \\n[  5]   2.00-3.00   sec  5.88 MBytes  49.3 Mbits/sec    0    206 KBytes       \\n[  5]   3.00-4.00   sec  6.00 MBytes  50.3 Mbits/sec    0    206 KBytes       \\n[  5]   4.00-5.00   sec  6.00 MBytes  50.3 Mbits/sec    0    206 KBytes       \\n[  5]   5.00-6.00   sec  5.88 MBytes  49.3 Mbits/sec    0    206 KBytes       \\n[  5]   6.00-7.00   sec  6.00 MBytes  50.3 Mbits/sec    0    206 KBytes       \\n[  5]   7.00-8.00   sec  6.00 MBytes  50.3 Mbits/sec    0    206 KBytes       \\n[  5]   8.00-9.00   sec  5.88 MBytes  49.3 Mbits/sec    0    206 KBytes       \\n[  5]   9.00-10.00  sec  6.00 MBytes  50.3 Mbits/sec    0    206 KBytes       \\n[  5]  10.00-11.00  sec  6.00 MBytes  50.3 Mbits/sec    0    206 KBytes       \\n[  5]  11.00-12.00  sec  5.88 MBytes  49.3 Mbits/sec    0    206 KBytes       \\n[  5]  12.00-13.00  sec  6.00 MBytes  50.3 Mbits/sec    0    206 KBytes       \\n[  5]  13.00-14.00  sec  6.00 MBytes  50.3 Mbits/sec    0    206 KBytes       \\n[  5]  14.00-15.00  sec  5.88 MBytes  49.3 Mbits/sec    0    206 KBytes       \\n- - - - - - - - - - - - - - - - - - - - - - - - -\\n[ ID] Interval           Transfer     Bitrate         Retr\\n[  5]   0.00-15.00  sec  89.4 MBytes  50.0 Mbits/sec    0             sender\\n[  5]   0.00-15.01  sec  89.4 MBytes  50.0 Mbits/sec                  receiver\\n\\niperf Done.\\n',\n",
       " '')"
      ]
     },
     "execution_count": 77,
     "metadata": {},
     "output_type": "execute_result"
    }
   ],
   "source": [
    "sender.execute('iperf3 -c 192.168.2.10 -t 15 -b 50mbit')"
   ]
  },
  {
   "cell_type": "markdown",
   "id": "bc6f8fbf-6e54-4b5a-8859-9c44bc3b240b",
   "metadata": {},
   "source": [
    "## Step 8.5: Testing without rate limiting\n",
    "\n",
    "In this step, we will start an iPerf3 client on the sender without setting the rate. Since the rate is unlimited, it is larger than the bottleneck (100mbit), and thus, the queue will heavily used.\n",
    "\n",
    "**Execute the cell below and go back to the terminal of the Collector that you opened in the previous step.**\n",
    "\n",
    "Note that the queue latency is ~ 200ms (the maximum latency that the buffer size supports) on average. We are averaging every 1000 samples using the ./average.sh script."
   ]
  },
  {
   "cell_type": "code",
   "execution_count": 78,
   "id": "2eab12c5-d0e6-4c09-ad6e-bff6d5fdefe1",
   "metadata": {},
   "outputs": [
    {
     "name": "stdout",
     "output_type": "stream",
     "text": [
      "Connecting to host 192.168.2.10, port 5201\n",
      "[  5] local 192.168.1.10 port 56714 connected to 192.168.2.10 port 5201\n",
      "[ ID] Interval           Transfer     Bitrate         Retr  Cwnd\n",
      "[  5]   0.00-1.00   sec  16.0 MBytes   134 Mbits/sec    0    868 KBytes       \n",
      "[  5]   1.00-2.00   sec  13.8 MBytes   115 Mbits/sec    0   1.54 MBytes       \n",
      "[  5]   2.00-3.00   sec  13.8 MBytes   115 Mbits/sec    0   2.23 MBytes       \n",
      "[  5]   3.00-4.00   sec  15.0 MBytes   126 Mbits/sec    0   2.92 MBytes       \n",
      "[  5]   4.00-5.00   sec  13.8 MBytes   115 Mbits/sec  114   1.48 MBytes       \n",
      "[  5]   5.00-6.00   sec  13.8 MBytes   115 Mbits/sec    0   1.57 MBytes       \n",
      "[  5]   6.00-7.00   sec  13.8 MBytes   115 Mbits/sec    0   1.64 MBytes       \n",
      "[  5]   7.00-8.00   sec  13.8 MBytes   115 Mbits/sec    0   1.69 MBytes       \n",
      "[  5]   8.00-9.00   sec  13.8 MBytes   115 Mbits/sec    0   1.72 MBytes       \n",
      "[  5]   9.00-10.00  sec  13.8 MBytes   115 Mbits/sec    0   1.74 MBytes       \n",
      "[  5]  10.00-11.00  sec  13.8 MBytes   115 Mbits/sec    0   1.75 MBytes       \n",
      "[  5]  11.00-12.00  sec  13.8 MBytes   115 Mbits/sec    0   1.76 MBytes       \n",
      "[  5]  12.00-13.00  sec  13.8 MBytes   115 Mbits/sec    0   1.76 MBytes       \n",
      "[  5]  13.00-14.00  sec  13.8 MBytes   115 Mbits/sec    0   1.76 MBytes       \n",
      "[  5]  14.00-15.00  sec  13.8 MBytes   115 Mbits/sec    0   1.76 MBytes       \n",
      "- - - - - - - - - - - - - - - - - - - - - - - - -\n",
      "[ ID] Interval           Transfer     Bitrate         Retr\n",
      "[  5]   0.00-15.00  sec   210 MBytes   117 Mbits/sec  114             sender\n",
      "[  5]   0.00-15.13  sec   208 MBytes   116 Mbits/sec                  receiver\n",
      "\n",
      "iperf Done.\n"
     ]
    },
    {
     "data": {
      "text/plain": [
       "('Connecting to host 192.168.2.10, port 5201\\n[  5] local 192.168.1.10 port 56714 connected to 192.168.2.10 port 5201\\n[ ID] Interval           Transfer     Bitrate         Retr  Cwnd\\n[  5]   0.00-1.00   sec  16.0 MBytes   134 Mbits/sec    0    868 KBytes       \\n[  5]   1.00-2.00   sec  13.8 MBytes   115 Mbits/sec    0   1.54 MBytes       \\n[  5]   2.00-3.00   sec  13.8 MBytes   115 Mbits/sec    0   2.23 MBytes       \\n[  5]   3.00-4.00   sec  15.0 MBytes   126 Mbits/sec    0   2.92 MBytes       \\n[  5]   4.00-5.00   sec  13.8 MBytes   115 Mbits/sec  114   1.48 MBytes       \\n[  5]   5.00-6.00   sec  13.8 MBytes   115 Mbits/sec    0   1.57 MBytes       \\n[  5]   6.00-7.00   sec  13.8 MBytes   115 Mbits/sec    0   1.64 MBytes       \\n[  5]   7.00-8.00   sec  13.8 MBytes   115 Mbits/sec    0   1.69 MBytes       \\n[  5]   8.00-9.00   sec  13.8 MBytes   115 Mbits/sec    0   1.72 MBytes       \\n[  5]   9.00-10.00  sec  13.8 MBytes   115 Mbits/sec    0   1.74 MBytes       \\n[  5]  10.00-11.00  sec  13.8 MBytes   115 Mbits/sec    0   1.75 MBytes       \\n[  5]  11.00-12.00  sec  13.8 MBytes   115 Mbits/sec    0   1.76 MBytes       \\n[  5]  12.00-13.00  sec  13.8 MBytes   115 Mbits/sec    0   1.76 MBytes       \\n[  5]  13.00-14.00  sec  13.8 MBytes   115 Mbits/sec    0   1.76 MBytes       \\n[  5]  14.00-15.00  sec  13.8 MBytes   115 Mbits/sec    0   1.76 MBytes       \\n- - - - - - - - - - - - - - - - - - - - - - - - -\\n[ ID] Interval           Transfer     Bitrate         Retr\\n[  5]   0.00-15.00  sec   210 MBytes   117 Mbits/sec  114             sender\\n[  5]   0.00-15.13  sec   208 MBytes   116 Mbits/sec                  receiver\\n\\niperf Done.\\n',\n",
       " '')"
      ]
     },
     "execution_count": 78,
     "metadata": {},
     "output_type": "execute_result"
    }
   ],
   "source": [
    "sender.execute('iperf3 -c 192.168.2.10 -t 15')"
   ]
  },
  {
   "cell_type": "code",
   "execution_count": null,
   "id": "ae61f018-b997-4630-a14e-3c8938bba334",
   "metadata": {},
   "outputs": [],
   "source": []
  }
 ],
 "metadata": {
  "kernelspec": {
   "display_name": "Python 3 (ipykernel)",
   "language": "python",
   "name": "python3"
  },
  "language_info": {
   "codemirror_mode": {
    "name": "ipython",
    "version": 3
   },
   "file_extension": ".py",
   "mimetype": "text/x-python",
   "name": "python",
   "nbconvert_exporter": "python",
   "pygments_lexer": "ipython3",
   "version": "3.10.6"
  }
 },
 "nbformat": 4,
 "nbformat_minor": 5
}
