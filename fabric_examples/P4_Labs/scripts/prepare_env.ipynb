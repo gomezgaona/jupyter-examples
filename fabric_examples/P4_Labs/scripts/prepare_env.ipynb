{
 "cells": [
  {
   "cell_type": "markdown",
   "id": "b8008ec2-9a2b-499b-9642-c24b9d5e50af",
   "metadata": {
    "tags": []
   },
   "source": [
    "## Set Bastion Username and Project ID\n",
    "\n",
    "Edit the following cell by entering your FABRIC bastion username and the correct path to the copy of your bastion private key in your Jupyter container.  \n",
    "\n",
    "- Your bastion user name can be found on your [user profile page](https://portal.fabric-testbed.net/user) in the FABRIC portal (click \"My SSH Keys\").\n",
    "- The path to your bastion key was determined when you copied it to the Jupyter container.  \n",
    "\n",
    "The Project ID can be from any of your projects. The ID can be found on the [projects](https://portal.fabric-testbed.net/projects) tab in the FABRIC portal."
   ]
  },
  {
   "cell_type": "code",
   "execution_count": 1,
   "id": "b9fb5d97-ffe6-4ff5-a58c-767a98fdc688",
   "metadata": {},
   "outputs": [],
   "source": [
    "export FABRIC_BASTION_USERNAME='ekfoury_0051602997'\n",
    "export FABRIC_PROJECT_ID='8eaa3ec2-65e7-49a3-8c09-e1761141a6ad'\n",
    "\n",
    "export FABRIC_BASTION_PRIVATE_KEY_LOCATION=${HOME}/work/fabric_config/my_bastion_keys\n",
    "\n",
    "export FABRIC_BASTION_SSH_CONFIG_FILE=${HOME}'/work/fabric_config/ssh_config'\n",
    "export FABRIC_RC_FILE=${HOME}'/work/fabric_config/fabric_rc'"
   ]
  },
  {
   "cell_type": "markdown",
   "id": "a603f117-a85d-4972-81c8-19d3e9b96473",
   "metadata": {},
   "source": [
    "## Set other Tokens and Keys\n",
    "\n",
    "The the path to where you put your bastion key.The defaults below should work within the Jupyter environment hosted by FABRIC.  Custom installations will require modifications to this configuration.\n"
   ]
  },
  {
   "cell_type": "code",
   "execution_count": 2,
   "id": "88b633c0-1e68-4ec1-a60e-6c507ac81183",
   "metadata": {
    "tags": []
   },
   "outputs": [],
   "source": [
    "export FABRIC_TOKEN_FILE=${HOME}'/.tokens.json'\n",
    "export FABRIC_SLICE_PRIVATE_KEY_FILE=${HOME}/work/fabric_config/my_sliver_keys\n",
    "export FABRIC_SLICE_PUBLIC_KEY_FILE=${FABRIC_SLICE_PRIVATE_KEY_FILE}.pub"
   ]
  },
  {
   "cell_type": "markdown",
   "id": "8a42e4cb-eb78-44e4-a4fe-645d6f3eef91",
   "metadata": {},
   "source": [
    "### Set the Permissions on your bastion key and private slice key. Your private bastion key must not have it permissions too open."
   ]
  },
  {
   "cell_type": "code",
   "execution_count": 3,
   "id": "99e9fca1-f006-4fca-b55b-869122f8e837",
   "metadata": {},
   "outputs": [],
   "source": [
    "chmod 600 ${FABRIC_BASTION_PRIVATE_KEY_LOCATION}\n",
    "chmod 600 ${FABRIC_SLICE_PRIVATE_KEY_FILE}"
   ]
  },
  {
   "cell_type": "code",
   "execution_count": null,
   "id": "7644a7f4-781a-4202-b101-7d554181cdac",
   "metadata": {},
   "outputs": [],
   "source": []
  },
  {
   "cell_type": "code",
   "execution_count": null,
   "id": "b06b50f3-95f7-48aa-87fa-d9d97b19c40d",
   "metadata": {},
   "outputs": [],
   "source": []
  }
 ],
 "metadata": {
  "kernelspec": {
   "display_name": "Bash",
   "language": "bash",
   "name": "bash"
  },
  "language_info": {
   "codemirror_mode": "shell",
   "file_extension": ".sh",
   "mimetype": "text/x-sh",
   "name": "bash"
  }
 },
 "nbformat": 4,
 "nbformat_minor": 5
}
